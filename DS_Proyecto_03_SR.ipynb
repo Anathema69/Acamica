{
 "cells": [
  {
   "cell_type": "markdown",
   "metadata": {
    "id": "gzJLet17WTzh"
   },
   "source": [
    "# Proyecto 03 - Sistemas de Recomendación\n",
    "\n",
    "## Dataset: STEAM\n",
    "\n",
    "**Recuerda descargar el dataset de [aquí](https://github.com/kang205/SASRec). Son dos archivos, uno de calificaciones y otro de información sobre los juegos.**\n",
    "\n",
    "En este notebook te dejamos unas celdas para que puedas comenzar a trabajar con este dataset. Sin embargo, **deberás** modificarlas para hacer un mejor manejo de datos. Algunas cosas a las que deberás prestar atención (tal vez no a todas):\n",
    "1. Tipos de datos: elige tipos de datos apropiados para cada columna.\n",
    "2. Descartar columnas poco informativas.\n",
    "3. Guardar en memoria datasets preprocesados para no tener que repetir código que tarde en correr.\n",
    "\n",
    "### Exploración de datos\n",
    "\n",
    "Dedícale un buen tiempo a hacer un Análisis Exploratorio de Datos. Elige preguntas que creas que puedas responder con este dataset. Por ejemplo, ¿cuáles son los juegos más populares?¿Y los menos populares?\n",
    "\n",
    "### Filtro Colaborativo\n",
    "\n",
    "Deberás implementar un sistema de recomendación colaborativo para este dataset. Ten en cuenta:\n",
    "\n",
    "1. Haz todas las transformaciones de datos que consideres necesarias. Justifica.\n",
    "1. Evalúa de forma apropiada sus resultados. Justifica la métrica elegida.\n",
    "1. Elige un modelo benchmark y compara tus resultados con este modelo.\n",
    "1. Optimiza los hiperparámetros de tu modelo.\n",
    "\n",
    "Puedes implementar un filtro colaborativo a partir de la similitud coseno o índice de Jaccard. ¿Puedes utilizar los métodos de la librería Surprise? Si no es así, busca implementaciones (por ejemplo, nuevas librerías) que sean apropiadas.\n",
    "\n",
    "Para comenzar a trabajar, puedes asumir que cada entrada es un enlace entre una persona usuaria y un item, **independientemente** de si la crítica es buena o mala. \n",
    "\n",
    "### Para pensar, investigar y, opcionalmente, implementar\n",
    "1. ¿Cómo harías para ponerle un valor a la calificación?\n",
    "1. ¿Cómo harías para agregar contenido? Por ejemplo, cuentas con el género, precio, fecha de lanzamiento y más información de los juegos.\n",
    "1. ¿Hay algo que te gustaría investigar o probar?\n",
    "\n",
    "### **¡Tómate tiempo para investigar y leer mucho!**"
   ]
  },
  {
   "cell_type": "code",
   "execution_count": 1,
   "metadata": {},
   "outputs": [],
   "source": [
    "import seaborn as sns\n",
    "\n",
    "import matplotlib.pyplot as plt\n",
    "import gzip\n",
    "import pandas as pd\n",
    "import numpy as np"
   ]
  },
  {
   "cell_type": "code",
   "execution_count": 3,
   "metadata": {
    "id": "lWZhtUxEWTzj"
   },
   "outputs": [],
   "source": [
    "def parse(path):\n",
    "    g = gzip.open(path, 'r')\n",
    "    for l in g:\n",
    "        yield eval(l)"
   ]
  },
  {
   "cell_type": "markdown",
   "metadata": {},
   "source": [
    "Los archivoz Json fueron extraídos previamente y guardados como CSV. Por lo tanto, la función de líneas arriba ya no fueron usadas para la presentación de este modelo"
   ]
  },
  {
   "cell_type": "markdown",
   "metadata": {},
   "source": [
    "**Usuarios**"
   ]
  },
  {
   "cell_type": "code",
   "execution_count": 39,
   "metadata": {},
   "outputs": [
    {
     "name": "stdout",
     "output_type": "stream",
     "text": [
      "Wall time: 3min 18s\n"
     ]
    },
    {
     "data": {
      "text/plain": [
       "(7793069, 12)"
      ]
     },
     "execution_count": 39,
     "metadata": {},
     "output_type": "execute_result"
    }
   ],
   "source": [
    "%%time\n",
    "data_reviews = pd.read_csv('Data_descomprimida.csv')\n",
    "data_reviews.drop(columns='Unnamed: 0', axis=1, inplace=True)\n",
    "data_reviews.shape"
   ]
  },
  {
   "cell_type": "markdown",
   "metadata": {
    "id": "04ed3teRWT0T"
   },
   "source": [
    "**Games**"
   ]
  },
  {
   "cell_type": "code",
   "execution_count": 5,
   "metadata": {
    "id": "8wRb24Y5WT0U"
   },
   "outputs": [
    {
     "name": "stdout",
     "output_type": "stream",
     "text": [
      "Wall time: 2.74 s\n"
     ]
    },
    {
     "data": {
      "text/plain": [
       "(32135, 16)"
      ]
     },
     "execution_count": 5,
     "metadata": {},
     "output_type": "execute_result"
    }
   ],
   "source": [
    "%%time\n",
    "data_games = []\n",
    "for l in parse('steam_games.json.gz'):\n",
    "    data_games.append(l)\n",
    "data_games = pd.DataFrame(data_games)\n",
    "data_games.to_csv('Data_games.csv')\n",
    "data_games.shape"
   ]
  },
  {
   "cell_type": "code",
   "execution_count": 4,
   "metadata": {},
   "outputs": [
    {
     "name": "stdout",
     "output_type": "stream",
     "text": [
      "Wall time: 578 ms\n"
     ]
    },
    {
     "data": {
      "text/plain": [
       "(32135, 16)"
      ]
     },
     "execution_count": 4,
     "metadata": {},
     "output_type": "execute_result"
    }
   ],
   "source": [
    "%%time\n",
    "data_games = pd.read_csv('Data_games.csv')\n",
    "data_games.drop(columns='Unnamed: 0', axis=1, inplace=True)\n",
    "data_games.shape"
   ]
  },
  {
   "cell_type": "markdown",
   "metadata": {},
   "source": [
    "## Exploración del Data Set\n",
    "Empezaremos con la limpieza eliminando columnas que no aportan información relevante. \n"
   ]
  },
  {
   "cell_type": "markdown",
   "metadata": {},
   "source": [
    "#### 1. Limpiando la tabla de `data_reviews`\n",
    "Este Data_frame contiene la información de todos los usuarios que hicieron la review del juego y la cantidad de horas jugadas"
   ]
  },
  {
   "cell_type": "code",
   "execution_count": 5,
   "metadata": {},
   "outputs": [
    {
     "data": {
      "text/html": [
       "<div>\n",
       "<style scoped>\n",
       "    .dataframe tbody tr th:only-of-type {\n",
       "        vertical-align: middle;\n",
       "    }\n",
       "\n",
       "    .dataframe tbody tr th {\n",
       "        vertical-align: top;\n",
       "    }\n",
       "\n",
       "    .dataframe thead th {\n",
       "        text-align: right;\n",
       "    }\n",
       "</style>\n",
       "<table border=\"1\" class=\"dataframe\">\n",
       "  <thead>\n",
       "    <tr style=\"text-align: right;\">\n",
       "      <th></th>\n",
       "      <th>username</th>\n",
       "      <th>hours</th>\n",
       "      <th>products</th>\n",
       "      <th>product_id</th>\n",
       "      <th>page_order</th>\n",
       "      <th>date</th>\n",
       "      <th>text</th>\n",
       "      <th>early_access</th>\n",
       "      <th>page</th>\n",
       "      <th>found_funny</th>\n",
       "      <th>compensation</th>\n",
       "      <th>user_id</th>\n",
       "    </tr>\n",
       "  </thead>\n",
       "  <tbody>\n",
       "    <tr>\n",
       "      <th>0</th>\n",
       "      <td>Chaos Syren</td>\n",
       "      <td>0.1</td>\n",
       "      <td>41.0</td>\n",
       "      <td>725280</td>\n",
       "      <td>0</td>\n",
       "      <td>2017-12-17</td>\n",
       "      <td>This would not be acceptable as an entertainme...</td>\n",
       "      <td>False</td>\n",
       "      <td>1</td>\n",
       "      <td>NaN</td>\n",
       "      <td>NaN</td>\n",
       "      <td>NaN</td>\n",
       "    </tr>\n",
       "    <tr>\n",
       "      <th>1</th>\n",
       "      <td>₮ʜᴇ Wᴀʀᴛᴏɴ</td>\n",
       "      <td>51.1</td>\n",
       "      <td>769.0</td>\n",
       "      <td>328100</td>\n",
       "      <td>0</td>\n",
       "      <td>2017-12-27</td>\n",
       "      <td>looks like a facebook game</td>\n",
       "      <td>False</td>\n",
       "      <td>1</td>\n",
       "      <td>NaN</td>\n",
       "      <td>NaN</td>\n",
       "      <td>NaN</td>\n",
       "    </tr>\n",
       "    <tr>\n",
       "      <th>2</th>\n",
       "      <td>hello?&lt;</td>\n",
       "      <td>14.6</td>\n",
       "      <td>2.0</td>\n",
       "      <td>328100</td>\n",
       "      <td>1</td>\n",
       "      <td>2017-10-16</td>\n",
       "      <td>Better than Minecraft</td>\n",
       "      <td>False</td>\n",
       "      <td>1</td>\n",
       "      <td>2.0</td>\n",
       "      <td>Product received for free</td>\n",
       "      <td>NaN</td>\n",
       "    </tr>\n",
       "    <tr>\n",
       "      <th>3</th>\n",
       "      <td>Cyderine916</td>\n",
       "      <td>5.0</td>\n",
       "      <td>64.0</td>\n",
       "      <td>35140</td>\n",
       "      <td>0</td>\n",
       "      <td>2018-01-04</td>\n",
       "      <td>I love and idolized Batman and this game is Ma...</td>\n",
       "      <td>False</td>\n",
       "      <td>1</td>\n",
       "      <td>NaN</td>\n",
       "      <td>NaN</td>\n",
       "      <td>NaN</td>\n",
       "    </tr>\n",
       "    <tr>\n",
       "      <th>4</th>\n",
       "      <td>DarklyThinking</td>\n",
       "      <td>16.6</td>\n",
       "      <td>577.0</td>\n",
       "      <td>35140</td>\n",
       "      <td>1</td>\n",
       "      <td>2018-01-04</td>\n",
       "      <td>Still worth playing in 2018.\\nProbably my favo...</td>\n",
       "      <td>False</td>\n",
       "      <td>1</td>\n",
       "      <td>NaN</td>\n",
       "      <td>NaN</td>\n",
       "      <td>7.656120e+16</td>\n",
       "    </tr>\n",
       "  </tbody>\n",
       "</table>\n",
       "</div>"
      ],
      "text/plain": [
       "         username  hours  products  product_id  page_order        date  \\\n",
       "0     Chaos Syren    0.1      41.0      725280           0  2017-12-17   \n",
       "1      ₮ʜᴇ Wᴀʀᴛᴏɴ   51.1     769.0      328100           0  2017-12-27   \n",
       "2         hello?<   14.6       2.0      328100           1  2017-10-16   \n",
       "3     Cyderine916    5.0      64.0       35140           0  2018-01-04   \n",
       "4  DarklyThinking   16.6     577.0       35140           1  2018-01-04   \n",
       "\n",
       "                                                text  early_access  page  \\\n",
       "0  This would not be acceptable as an entertainme...         False     1   \n",
       "1                         looks like a facebook game         False     1   \n",
       "2                              Better than Minecraft         False     1   \n",
       "3  I love and idolized Batman and this game is Ma...         False     1   \n",
       "4  Still worth playing in 2018.\\nProbably my favo...         False     1   \n",
       "\n",
       "   found_funny               compensation       user_id  \n",
       "0          NaN                        NaN           NaN  \n",
       "1          NaN                        NaN           NaN  \n",
       "2          2.0  Product received for free           NaN  \n",
       "3          NaN                        NaN           NaN  \n",
       "4          NaN                        NaN  7.656120e+16  "
      ]
     },
     "execution_count": 5,
     "metadata": {},
     "output_type": "execute_result"
    }
   ],
   "source": [
    "data_reviews.head()"
   ]
  },
  {
   "cell_type": "code",
   "execution_count": 5,
   "metadata": {},
   "outputs": [
    {
     "data": {
      "text/plain": [
       "array([0, 1])"
      ]
     },
     "execution_count": 5,
     "metadata": {},
     "output_type": "execute_result"
    }
   ],
   "source": [
    "from sklearn import preprocessing\n",
    "le = preprocessing.LabelEncoder()\n",
    "np.unique(le.fit_transform(data_reviews.compensation.astype(str)))"
   ]
  },
  {
   "cell_type": "markdown",
   "metadata": {},
   "source": [
    "> La columna `compensation` solo tiene dos posibles valores: \"Product received for free\" y \"NaN\". Se procederá a eliminar\n",
    "\n",
    "> La columna `user_id` no tiene todos los valores, usaremos solo los username para poder guiarnos.\n",
    "\n",
    "> Las columnas `page_order` y `page` no nos da mucha información por ahora.\n",
    "\n",
    "> La columna `text` tiene información valiosa escrita por los usuarios. Pero, para hacer un análisis de sentimientos deberiamos aplicar el PNL que tampoco se podría implementar porque el texto escrito contiene jergas de jugadores, emoticones y algunos están escritos en diferentes idiomas. Lo descartaremos... por ahora."
   ]
  },
  {
   "cell_type": "code",
   "execution_count": 40,
   "metadata": {},
   "outputs": [],
   "source": [
    "#Procedemos con la eliminación de las columnas\n",
    "data_reviews.drop(columns= ['compensation', 'user_id', 'page', 'page_order','text','found_funny','early_access', 'products', 'date'], axis=1, inplace=True)"
   ]
  },
  {
   "cell_type": "code",
   "execution_count": 41,
   "metadata": {},
   "outputs": [
    {
     "data": {
      "text/html": [
       "<div>\n",
       "<style scoped>\n",
       "    .dataframe tbody tr th:only-of-type {\n",
       "        vertical-align: middle;\n",
       "    }\n",
       "\n",
       "    .dataframe tbody tr th {\n",
       "        vertical-align: top;\n",
       "    }\n",
       "\n",
       "    .dataframe thead th {\n",
       "        text-align: right;\n",
       "    }\n",
       "</style>\n",
       "<table border=\"1\" class=\"dataframe\">\n",
       "  <thead>\n",
       "    <tr style=\"text-align: right;\">\n",
       "      <th></th>\n",
       "      <th>username</th>\n",
       "      <th>hours</th>\n",
       "      <th>product_id</th>\n",
       "    </tr>\n",
       "  </thead>\n",
       "  <tbody>\n",
       "    <tr>\n",
       "      <th>0</th>\n",
       "      <td>Chaos Syren</td>\n",
       "      <td>0.1</td>\n",
       "      <td>725280</td>\n",
       "    </tr>\n",
       "    <tr>\n",
       "      <th>1</th>\n",
       "      <td>₮ʜᴇ Wᴀʀᴛᴏɴ</td>\n",
       "      <td>51.1</td>\n",
       "      <td>328100</td>\n",
       "    </tr>\n",
       "    <tr>\n",
       "      <th>2</th>\n",
       "      <td>hello?&lt;</td>\n",
       "      <td>14.6</td>\n",
       "      <td>328100</td>\n",
       "    </tr>\n",
       "    <tr>\n",
       "      <th>3</th>\n",
       "      <td>Cyderine916</td>\n",
       "      <td>5.0</td>\n",
       "      <td>35140</td>\n",
       "    </tr>\n",
       "    <tr>\n",
       "      <th>4</th>\n",
       "      <td>DarklyThinking</td>\n",
       "      <td>16.6</td>\n",
       "      <td>35140</td>\n",
       "    </tr>\n",
       "  </tbody>\n",
       "</table>\n",
       "</div>"
      ],
      "text/plain": [
       "         username  hours  product_id\n",
       "0     Chaos Syren    0.1      725280\n",
       "1      ₮ʜᴇ Wᴀʀᴛᴏɴ   51.1      328100\n",
       "2         hello?<   14.6      328100\n",
       "3     Cyderine916    5.0       35140\n",
       "4  DarklyThinking   16.6       35140"
      ]
     },
     "execution_count": 41,
     "metadata": {},
     "output_type": "execute_result"
    }
   ],
   "source": [
    "data_reviews.head()"
   ]
  },
  {
   "cell_type": "markdown",
   "metadata": {},
   "source": [
    "Usaremos como estrategia la cantidad de horas que jugó el usuario para determinar si le gustó o no el juego. \n",
    "Entonces, buscaremos que todos usuarios de la review tengan las horas registradas, caso contrario los eliminaremos para poder trabajarlos."
   ]
  },
  {
   "cell_type": "code",
   "execution_count": 8,
   "metadata": {},
   "outputs": [],
   "source": [
    "array_deleted = data_reviews[data_reviews.hours.isna()].index #Buscamos los registros dónde los jugadores no contengan el valor de las horas jugadas.\n",
    "data_reviews.drop(array_deleted, axis=0, inplace=True) #Procedemos a eliminarlos"
   ]
  },
  {
   "cell_type": "code",
   "execution_count": 42,
   "metadata": {},
   "outputs": [
    {
     "name": "stdout",
     "output_type": "stream",
     "text": [
      "Ahora, tenemos registros de: 7793069 jugadores con registro de las horas jugadas\n"
     ]
    }
   ],
   "source": [
    "print(f'Ahora, tenemos registros de: {data_reviews.shape[0]} jugadores con registro de las horas jugadas')"
   ]
  },
  {
   "cell_type": "code",
   "execution_count": 33,
   "metadata": {},
   "outputs": [
    {
     "data": {
      "text/plain": [
       "username             product_id\n",
       "123                  346110        549\n",
       "                     252490         68\n",
       "elitecase.net        306410         60\n",
       "dpn2405              299460         60\n",
       "...                  440            45\n",
       "                                  ... \n",
       "BigPickle            360430          2\n",
       "Ab ans Kletterseil!  440             2\n",
       "AwryGuy              27000           2\n",
       "BigPickleTickler     363600          2\n",
       "Rankonius            386360          2\n",
       "Length: 781881, dtype: int64"
      ]
     },
     "execution_count": 33,
     "metadata": {},
     "output_type": "execute_result"
    }
   ],
   "source": [
    "data_reviews[['username','product_id']].value_counts()[data_reviews[['username','product_id']].value_counts()>1]"
   ]
  },
  {
   "cell_type": "markdown",
   "metadata": {},
   "source": [
    "> El cuadro de arriba muestra los registros duplicados de los usuarios y productos_id. Tomaremos en cuenta el juego que registre la hora mayor jugada y el resto será eliminado."
   ]
  },
  {
   "cell_type": "code",
   "execution_count": 44,
   "metadata": {},
   "outputs": [
    {
     "name": "stdout",
     "output_type": "stream",
     "text": [
      "Wall time: 15.9 s\n"
     ]
    }
   ],
   "source": [
    "%%time\n",
    "id_max_horas = data_reviews.groupby(['username', 'product_id']).hours.transform(max)\n",
    "data_reviews = data_reviews[data_reviews.hours == id_max_horas]\n",
    "data_reviews.drop_duplicates(subset=['username','product_id'], inplace=True)"
   ]
  },
  {
   "cell_type": "markdown",
   "metadata": {},
   "source": [
    "Comprobamos de que no existan duplicados para `data_revies`"
   ]
  },
  {
   "cell_type": "code",
   "execution_count": 46,
   "metadata": {},
   "outputs": [
    {
     "data": {
      "text/plain": [
       "Series([], dtype: int64)"
      ]
     },
     "execution_count": 46,
     "metadata": {},
     "output_type": "execute_result"
    }
   ],
   "source": [
    "data_reviews[['username','product_id']].value_counts()[data_reviews[['username','product_id']].value_counts()>1]"
   ]
  },
  {
   "cell_type": "code",
   "execution_count": 48,
   "metadata": {},
   "outputs": [
    {
     "name": "stdout",
     "output_type": "stream",
     "text": [
      "Existen 6863842 únicos para data_reviews\n"
     ]
    }
   ],
   "source": [
    "print(f'Existen {data_reviews.shape[0]} únicos para data_reviews')"
   ]
  },
  {
   "cell_type": "markdown",
   "metadata": {},
   "source": [
    "Los jugadores que hayan registrado un total de 0 horas, no puede ser considerado para el algoritmo en busca de sus preferencias. Esto puede deberse que el juego no le gustó o en el momento de la recopilación del juego aún no lo había jugado. Pero, la información de lo que NO le ha gustado no es información valiosa para hacerle recomendaciones."
   ]
  },
  {
   "cell_type": "code",
   "execution_count": 104,
   "metadata": {},
   "outputs": [],
   "source": [
    "drop_aux = data_reviews[data_reviews.hours==0].index\n",
    "data_reviews.drop(drop_aux, axis=0, inplace=True)"
   ]
  },
  {
   "cell_type": "markdown",
   "metadata": {},
   "source": [
    "#### 2. Limpiando la tabla de `data_games`\n",
    "Este data_frame contiene toda la información de los juegos. Hay algunas columnas que no usaremos por no ser información relevante"
   ]
  },
  {
   "cell_type": "code",
   "execution_count": 13,
   "metadata": {},
   "outputs": [
    {
     "data": {
      "text/html": [
       "<div>\n",
       "<style scoped>\n",
       "    .dataframe tbody tr th:only-of-type {\n",
       "        vertical-align: middle;\n",
       "    }\n",
       "\n",
       "    .dataframe tbody tr th {\n",
       "        vertical-align: top;\n",
       "    }\n",
       "\n",
       "    .dataframe thead th {\n",
       "        text-align: right;\n",
       "    }\n",
       "</style>\n",
       "<table border=\"1\" class=\"dataframe\">\n",
       "  <thead>\n",
       "    <tr style=\"text-align: right;\">\n",
       "      <th></th>\n",
       "      <th>publisher</th>\n",
       "      <th>genres</th>\n",
       "      <th>app_name</th>\n",
       "      <th>title</th>\n",
       "      <th>url</th>\n",
       "      <th>release_date</th>\n",
       "      <th>tags</th>\n",
       "      <th>discount_price</th>\n",
       "      <th>reviews_url</th>\n",
       "      <th>specs</th>\n",
       "      <th>price</th>\n",
       "      <th>early_access</th>\n",
       "      <th>id</th>\n",
       "      <th>developer</th>\n",
       "      <th>sentiment</th>\n",
       "      <th>metascore</th>\n",
       "    </tr>\n",
       "  </thead>\n",
       "  <tbody>\n",
       "    <tr>\n",
       "      <th>0</th>\n",
       "      <td>Kotoshiro</td>\n",
       "      <td>['Action', 'Casual', 'Indie', 'Simulation', 'S...</td>\n",
       "      <td>Lost Summoner Kitty</td>\n",
       "      <td>Lost Summoner Kitty</td>\n",
       "      <td>http://store.steampowered.com/app/761140/Lost_...</td>\n",
       "      <td>2018-01-04</td>\n",
       "      <td>['Strategy', 'Action', 'Indie', 'Casual', 'Sim...</td>\n",
       "      <td>4.49</td>\n",
       "      <td>http://steamcommunity.com/app/761140/reviews/?...</td>\n",
       "      <td>['Single-player']</td>\n",
       "      <td>4.99</td>\n",
       "      <td>False</td>\n",
       "      <td>761140.0</td>\n",
       "      <td>Kotoshiro</td>\n",
       "      <td>NaN</td>\n",
       "      <td>NaN</td>\n",
       "    </tr>\n",
       "    <tr>\n",
       "      <th>1</th>\n",
       "      <td>Making Fun, Inc.</td>\n",
       "      <td>['Free to Play', 'Indie', 'RPG', 'Strategy']</td>\n",
       "      <td>Ironbound</td>\n",
       "      <td>Ironbound</td>\n",
       "      <td>http://store.steampowered.com/app/643980/Ironb...</td>\n",
       "      <td>2018-01-04</td>\n",
       "      <td>['Free to Play', 'Strategy', 'Indie', 'RPG', '...</td>\n",
       "      <td>NaN</td>\n",
       "      <td>http://steamcommunity.com/app/643980/reviews/?...</td>\n",
       "      <td>['Single-player', 'Multi-player', 'Online Mult...</td>\n",
       "      <td>Free To Play</td>\n",
       "      <td>False</td>\n",
       "      <td>643980.0</td>\n",
       "      <td>Secret Level SRL</td>\n",
       "      <td>Mostly Positive</td>\n",
       "      <td>NaN</td>\n",
       "    </tr>\n",
       "    <tr>\n",
       "      <th>2</th>\n",
       "      <td>Poolians.com</td>\n",
       "      <td>['Casual', 'Free to Play', 'Indie', 'Simulatio...</td>\n",
       "      <td>Real Pool 3D - Poolians</td>\n",
       "      <td>Real Pool 3D - Poolians</td>\n",
       "      <td>http://store.steampowered.com/app/670290/Real_...</td>\n",
       "      <td>2017-07-24</td>\n",
       "      <td>['Free to Play', 'Simulation', 'Sports', 'Casu...</td>\n",
       "      <td>NaN</td>\n",
       "      <td>http://steamcommunity.com/app/670290/reviews/?...</td>\n",
       "      <td>['Single-player', 'Multi-player', 'Online Mult...</td>\n",
       "      <td>Free to Play</td>\n",
       "      <td>False</td>\n",
       "      <td>670290.0</td>\n",
       "      <td>Poolians.com</td>\n",
       "      <td>Mostly Positive</td>\n",
       "      <td>NaN</td>\n",
       "    </tr>\n",
       "    <tr>\n",
       "      <th>3</th>\n",
       "      <td>彼岸领域</td>\n",
       "      <td>['Action', 'Adventure', 'Casual']</td>\n",
       "      <td>弹炸人2222</td>\n",
       "      <td>弹炸人2222</td>\n",
       "      <td>http://store.steampowered.com/app/767400/2222/</td>\n",
       "      <td>2017-12-07</td>\n",
       "      <td>['Action', 'Adventure', 'Casual']</td>\n",
       "      <td>0.83</td>\n",
       "      <td>http://steamcommunity.com/app/767400/reviews/?...</td>\n",
       "      <td>['Single-player']</td>\n",
       "      <td>0.99</td>\n",
       "      <td>False</td>\n",
       "      <td>767400.0</td>\n",
       "      <td>彼岸领域</td>\n",
       "      <td>NaN</td>\n",
       "      <td>NaN</td>\n",
       "    </tr>\n",
       "    <tr>\n",
       "      <th>4</th>\n",
       "      <td>NaN</td>\n",
       "      <td>NaN</td>\n",
       "      <td>Log Challenge</td>\n",
       "      <td>NaN</td>\n",
       "      <td>http://store.steampowered.com/app/773570/Log_C...</td>\n",
       "      <td>NaN</td>\n",
       "      <td>['Action', 'Indie', 'Casual', 'Sports']</td>\n",
       "      <td>1.79</td>\n",
       "      <td>http://steamcommunity.com/app/773570/reviews/?...</td>\n",
       "      <td>['Single-player', 'Full controller support', '...</td>\n",
       "      <td>2.99</td>\n",
       "      <td>False</td>\n",
       "      <td>773570.0</td>\n",
       "      <td>NaN</td>\n",
       "      <td>NaN</td>\n",
       "      <td>NaN</td>\n",
       "    </tr>\n",
       "  </tbody>\n",
       "</table>\n",
       "</div>"
      ],
      "text/plain": [
       "          publisher                                             genres  \\\n",
       "0         Kotoshiro  ['Action', 'Casual', 'Indie', 'Simulation', 'S...   \n",
       "1  Making Fun, Inc.       ['Free to Play', 'Indie', 'RPG', 'Strategy']   \n",
       "2      Poolians.com  ['Casual', 'Free to Play', 'Indie', 'Simulatio...   \n",
       "3              彼岸领域                  ['Action', 'Adventure', 'Casual']   \n",
       "4               NaN                                                NaN   \n",
       "\n",
       "                  app_name                    title  \\\n",
       "0      Lost Summoner Kitty      Lost Summoner Kitty   \n",
       "1                Ironbound                Ironbound   \n",
       "2  Real Pool 3D - Poolians  Real Pool 3D - Poolians   \n",
       "3                  弹炸人2222                  弹炸人2222   \n",
       "4            Log Challenge                      NaN   \n",
       "\n",
       "                                                 url release_date  \\\n",
       "0  http://store.steampowered.com/app/761140/Lost_...   2018-01-04   \n",
       "1  http://store.steampowered.com/app/643980/Ironb...   2018-01-04   \n",
       "2  http://store.steampowered.com/app/670290/Real_...   2017-07-24   \n",
       "3     http://store.steampowered.com/app/767400/2222/   2017-12-07   \n",
       "4  http://store.steampowered.com/app/773570/Log_C...          NaN   \n",
       "\n",
       "                                                tags  discount_price  \\\n",
       "0  ['Strategy', 'Action', 'Indie', 'Casual', 'Sim...            4.49   \n",
       "1  ['Free to Play', 'Strategy', 'Indie', 'RPG', '...             NaN   \n",
       "2  ['Free to Play', 'Simulation', 'Sports', 'Casu...             NaN   \n",
       "3                  ['Action', 'Adventure', 'Casual']            0.83   \n",
       "4            ['Action', 'Indie', 'Casual', 'Sports']            1.79   \n",
       "\n",
       "                                         reviews_url  \\\n",
       "0  http://steamcommunity.com/app/761140/reviews/?...   \n",
       "1  http://steamcommunity.com/app/643980/reviews/?...   \n",
       "2  http://steamcommunity.com/app/670290/reviews/?...   \n",
       "3  http://steamcommunity.com/app/767400/reviews/?...   \n",
       "4  http://steamcommunity.com/app/773570/reviews/?...   \n",
       "\n",
       "                                               specs         price  \\\n",
       "0                                  ['Single-player']          4.99   \n",
       "1  ['Single-player', 'Multi-player', 'Online Mult...  Free To Play   \n",
       "2  ['Single-player', 'Multi-player', 'Online Mult...  Free to Play   \n",
       "3                                  ['Single-player']          0.99   \n",
       "4  ['Single-player', 'Full controller support', '...          2.99   \n",
       "\n",
       "   early_access        id         developer        sentiment  metascore  \n",
       "0         False  761140.0         Kotoshiro              NaN        NaN  \n",
       "1         False  643980.0  Secret Level SRL  Mostly Positive        NaN  \n",
       "2         False  670290.0      Poolians.com  Mostly Positive        NaN  \n",
       "3         False  767400.0              彼岸领域              NaN        NaN  \n",
       "4         False  773570.0               NaN              NaN        NaN  "
      ]
     },
     "execution_count": 13,
     "metadata": {},
     "output_type": "execute_result"
    }
   ],
   "source": [
    "data_games.head()"
   ]
  },
  {
   "cell_type": "code",
   "execution_count": 14,
   "metadata": {},
   "outputs": [],
   "source": [
    "#Eliminamos las columnas que no usaremos\n",
    "data_games.drop(columns= ['title', 'reviews_url','url','developer','tags', 'release_date', 'specs', 'early_access', 'sentiment', 'metascore','discount_price'], axis=1, inplace=True)"
   ]
  },
  {
   "cell_type": "code",
   "execution_count": 15,
   "metadata": {},
   "outputs": [],
   "source": [
    "#Eliminaremos los juegos que no contengan un ID\n",
    "data_games.drop(data_games.id[data_games.id.isna()].index, axis=0, inplace=True)"
   ]
  },
  {
   "cell_type": "code",
   "execution_count": 16,
   "metadata": {},
   "outputs": [
    {
     "data": {
      "text/plain": [
       "612880.0    2\n",
       "Name: id, dtype: int64"
      ]
     },
     "execution_count": 16,
     "metadata": {},
     "output_type": "execute_result"
    }
   ],
   "source": [
    "#Verificado el ID del juego que se duplica\n",
    "data_games.id.value_counts()[data_games.id.value_counts()>1]"
   ]
  },
  {
   "cell_type": "code",
   "execution_count": 17,
   "metadata": {},
   "outputs": [
    {
     "data": {
      "text/html": [
       "<div>\n",
       "<style scoped>\n",
       "    .dataframe tbody tr th:only-of-type {\n",
       "        vertical-align: middle;\n",
       "    }\n",
       "\n",
       "    .dataframe tbody tr th {\n",
       "        vertical-align: top;\n",
       "    }\n",
       "\n",
       "    .dataframe thead th {\n",
       "        text-align: right;\n",
       "    }\n",
       "</style>\n",
       "<table border=\"1\" class=\"dataframe\">\n",
       "  <thead>\n",
       "    <tr style=\"text-align: right;\">\n",
       "      <th></th>\n",
       "      <th>publisher</th>\n",
       "      <th>genres</th>\n",
       "      <th>app_name</th>\n",
       "      <th>discount_price</th>\n",
       "      <th>price</th>\n",
       "      <th>id</th>\n",
       "    </tr>\n",
       "  </thead>\n",
       "  <tbody>\n",
       "    <tr>\n",
       "      <th>13894</th>\n",
       "      <td>Bethesda Softworks</td>\n",
       "      <td>['Action']</td>\n",
       "      <td>Wolfenstein II: The New Colossus</td>\n",
       "      <td>NaN</td>\n",
       "      <td>59.99</td>\n",
       "      <td>612880.0</td>\n",
       "    </tr>\n",
       "    <tr>\n",
       "      <th>14573</th>\n",
       "      <td>Bethesda Softworks</td>\n",
       "      <td>['Action']</td>\n",
       "      <td>Wolfenstein II: The New Colossus</td>\n",
       "      <td>NaN</td>\n",
       "      <td>59.99</td>\n",
       "      <td>612880.0</td>\n",
       "    </tr>\n",
       "  </tbody>\n",
       "</table>\n",
       "</div>"
      ],
      "text/plain": [
       "                publisher      genres                          app_name  \\\n",
       "13894  Bethesda Softworks  ['Action']  Wolfenstein II: The New Colossus   \n",
       "14573  Bethesda Softworks  ['Action']  Wolfenstein II: The New Colossus   \n",
       "\n",
       "       discount_price  price        id  \n",
       "13894             NaN  59.99  612880.0  \n",
       "14573             NaN  59.99  612880.0  "
      ]
     },
     "execution_count": 17,
     "metadata": {},
     "output_type": "execute_result"
    }
   ],
   "source": [
    "data_games[data_games.id==612880]"
   ]
  },
  {
   "cell_type": "code",
   "execution_count": 19,
   "metadata": {},
   "outputs": [],
   "source": [
    "#Eliminaremos el único duplicado del data frame de los juegos\n",
    "data_games.drop(13894, axis=0, inplace=True)"
   ]
  },
  {
   "cell_type": "code",
   "execution_count": 20,
   "metadata": {},
   "outputs": [
    {
     "data": {
      "text/plain": [
       "(32132, 32132)"
      ]
     },
     "execution_count": 20,
     "metadata": {},
     "output_type": "execute_result"
    }
   ],
   "source": [
    "#Comprobamos que el dataframe contiene solo valores únicos respecto al juego\n",
    "len(np.unique(data_games.id)), data_games.shape[0]"
   ]
  },
  {
   "cell_type": "markdown",
   "metadata": {},
   "source": [
    "Se espera que todos los juegos hayan sido calificados por los jugadores. Ahora, se buscará aquellos juegos que no tengan review y serán eliminados del data frame"
   ]
  },
  {
   "cell_type": "code",
   "execution_count": 21,
   "metadata": {},
   "outputs": [],
   "source": [
    "Lista_id= list(np.unique(data_reviews.product_id)) "
   ]
  },
  {
   "cell_type": "code",
   "execution_count": 22,
   "metadata": {},
   "outputs": [
    {
     "data": {
      "text/plain": [
       "16742"
      ]
     },
     "execution_count": 22,
     "metadata": {},
     "output_type": "execute_result"
    }
   ],
   "source": [
    "len(np.unique(data_games.id[~data_games.id.isin(Lista_id)]))\n",
    "#Esta cantidad representa a todos los juegos que no hayan sido valorados por nadie, entonces no las usaremos porque no sabemos si pudo haberle gustado a alquien"
   ]
  },
  {
   "cell_type": "code",
   "execution_count": 23,
   "metadata": {},
   "outputs": [],
   "source": [
    "array_deleted=data_games.id[~data_games.id.isin(Lista_id)].index\n",
    "data_games.drop(array_deleted, axis=0, inplace=True)"
   ]
  },
  {
   "cell_type": "code",
   "execution_count": 43,
   "metadata": {},
   "outputs": [
    {
     "name": "stdout",
     "output_type": "stream",
     "text": [
      "Ahora, existen: 15390 juegos que fueron calificados por los usuarios\n"
     ]
    }
   ],
   "source": [
    "print(f'Ahora, existen: {data_games.shape[0]} juegos que fueron calificados por los usuarios')"
   ]
  },
  {
   "cell_type": "markdown",
   "metadata": {},
   "source": [
    "#### Haremos un join entre data_games y data_reviews para ver valores estadísticos como máximo de horas jugadas, std de horas, etc"
   ]
  },
  {
   "cell_type": "code",
   "execution_count": 105,
   "metadata": {},
   "outputs": [],
   "source": [
    "Lista_juegos= list(np.unique(data_reviews.product_id))"
   ]
  },
  {
   "cell_type": "code",
   "execution_count": 106,
   "metadata": {},
   "outputs": [],
   "source": [
    "df_aux1 = data_reviews[['product_id']][data_reviews.product_id.isin(Lista_juegos)].value_counts().reset_index(name='Total_reviews')\n",
    "aux_deleted = df_aux1[df_aux1.Total_reviews<25].index \n",
    "df_aux1.drop(aux_deleted, axis=0,inplace=True)"
   ]
  },
  {
   "cell_type": "code",
   "execution_count": 107,
   "metadata": {},
   "outputs": [],
   "source": [
    "df_aux2 = data_reviews[data_reviews.product_id.isin(Lista_juegos)].groupby(['product_id']).agg({'hours': 'sum'}).reset_index().rename(columns={'hours':'Horas_jugadas_suma'})\n",
    "df_aux3 = data_reviews[data_reviews.product_id.isin(Lista_juegos)].groupby(['product_id']).agg({'hours': 'mean'}).reset_index().rename(columns={'hours':'Horas_jugadas_promedio'})\n",
    "df_aux4 = data_reviews[data_reviews.product_id.isin(Lista_juegos)].groupby(['product_id']).agg({'hours': 'std'}).reset_index().rename(columns={'hours':'Std_horas_jugadas'})\n",
    "df_aux5 = data_reviews[data_reviews.product_id.isin(Lista_juegos)].groupby(['product_id']).agg({'hours': 'max'}).reset_index().rename(columns={'hours':'Max_horas_jugadas'})\n",
    "df_aux6 = data_reviews[data_reviews.product_id.isin(Lista_juegos)].groupby(['product_id']).agg({'hours': 'min'}).reset_index().rename(columns={'hours':'Min_horas_jugadas'})"
   ]
  },
  {
   "cell_type": "code",
   "execution_count": 164,
   "metadata": {},
   "outputs": [],
   "source": [
    "pt1 = pd.merge(df_aux1,df_aux2, on=['product_id'])[['product_id', 'Total_reviews','Horas_jugadas_suma']]\n",
    "pt2 = pd.merge(df_aux3,df_aux4, on=['product_id'])[['product_id', 'Horas_jugadas_promedio','Std_horas_jugadas']]\n",
    "pt3 = pd.merge(df_aux5,df_aux6, on=['product_id'])[['product_id', 'Max_horas_jugadas','Min_horas_jugadas']]\n",
    "pt4 = pd.merge(pt1,pt2, on=['product_id'])[['product_id', 'Total_reviews','Horas_jugadas_suma','Horas_jugadas_promedio','Std_horas_jugadas']]\n",
    "\n",
    "Calificaciones_byID = pd.merge(pt4,pt3, on=['product_id'])[['product_id', 'Total_reviews','Horas_jugadas_suma','Horas_jugadas_promedio','Std_horas_jugadas','Max_horas_jugadas','Min_horas_jugadas']]\n",
    "Calificaciones_byID=pd.merge(Calificaciones_byID, data_games.rename(columns={'id':'product_id'}), on=['product_id'])[['product_id','app_name', 'price', 'Total_reviews','Horas_jugadas_suma','Horas_jugadas_promedio','Std_horas_jugadas','Max_horas_jugadas','Min_horas_jugadas']]\n"
   ]
  },
  {
   "cell_type": "code",
   "execution_count": 165,
   "metadata": {},
   "outputs": [],
   "source": [
    "#Asignaremos un precio a los juegos Free\n",
    "Calificaciones_byID[(Calificaciones_byID.price.isna()==False) & (Calificaciones_byID.price.str.contains(\"Free\"))]=0\n",
    "\n",
    "#existen algunos juegos que no son 'Free' y no se puede determinar su precio, se procede a eliminarse\n",
    "aux_drop = Calificaciones_byID[(Calificaciones_byID.price.isna()==False) & (Calificaciones_byID.price.str.contains(\"[a-z]\"))].index\n",
    "Calificaciones_byID.drop(aux_drop, axis=0, inplace=True)\n",
    "\n",
    "#También eliminaremos a los registros que no contengan un valor para el precio\n",
    "Calificaciones_byID.dropna(subset=['price'], inplace=True)\n",
    "\n",
    "#Procedemos a convertir price en un valor flotante para poder cálculos como: 'precio mayor', 'precio menor'\n",
    "Calificaciones_byID['price']=Calificaciones_byID['price'].astype(float)\n",
    "\n",
    "drop_aux= Calificaciones_byID[Calificaciones_byID.product_id==0].index\n",
    "Calificaciones_byID.drop(drop_aux, axis=0, inplace=True)"
   ]
  },
  {
   "cell_type": "code",
   "execution_count": 166,
   "metadata": {},
   "outputs": [
    {
     "data": {
      "text/html": [
       "<div>\n",
       "<style scoped>\n",
       "    .dataframe tbody tr th:only-of-type {\n",
       "        vertical-align: middle;\n",
       "    }\n",
       "\n",
       "    .dataframe tbody tr th {\n",
       "        vertical-align: top;\n",
       "    }\n",
       "\n",
       "    .dataframe thead th {\n",
       "        text-align: right;\n",
       "    }\n",
       "</style>\n",
       "<table border=\"1\" class=\"dataframe\">\n",
       "  <thead>\n",
       "    <tr style=\"text-align: right;\">\n",
       "      <th></th>\n",
       "      <th>product_id</th>\n",
       "      <th>app_name</th>\n",
       "      <th>price</th>\n",
       "      <th>Total_reviews</th>\n",
       "      <th>Horas_jugadas_suma</th>\n",
       "      <th>Horas_jugadas_promedio</th>\n",
       "      <th>Std_horas_jugadas</th>\n",
       "      <th>Max_horas_jugadas</th>\n",
       "      <th>Min_horas_jugadas</th>\n",
       "    </tr>\n",
       "  </thead>\n",
       "  <tbody>\n",
       "    <tr>\n",
       "      <th>8048</th>\n",
       "      <td>643900</td>\n",
       "      <td>Alvora Tactics</td>\n",
       "      <td>9.99</td>\n",
       "      <td>29</td>\n",
       "      <td>750.9</td>\n",
       "      <td>25.893103</td>\n",
       "      <td>21.795772</td>\n",
       "      <td>108.7</td>\n",
       "      <td>5.5</td>\n",
       "    </tr>\n",
       "    <tr>\n",
       "      <th>5379</th>\n",
       "      <td>372940</td>\n",
       "      <td>Lost Lands: The Four Horsemen</td>\n",
       "      <td>6.99</td>\n",
       "      <td>80</td>\n",
       "      <td>1606.7</td>\n",
       "      <td>20.083750</td>\n",
       "      <td>30.048659</td>\n",
       "      <td>193.0</td>\n",
       "      <td>3.6</td>\n",
       "    </tr>\n",
       "    <tr>\n",
       "      <th>7648</th>\n",
       "      <td>504800</td>\n",
       "      <td>Sorcery! Part 4</td>\n",
       "      <td>9.99</td>\n",
       "      <td>33</td>\n",
       "      <td>908.6</td>\n",
       "      <td>27.533333</td>\n",
       "      <td>57.279821</td>\n",
       "      <td>321.9</td>\n",
       "      <td>3.5</td>\n",
       "    </tr>\n",
       "    <tr>\n",
       "      <th>4445</th>\n",
       "      <td>433000</td>\n",
       "      <td>Lost Lands: The Golden Curse</td>\n",
       "      <td>6.99</td>\n",
       "      <td>120</td>\n",
       "      <td>1941.1</td>\n",
       "      <td>16.175833</td>\n",
       "      <td>14.133487</td>\n",
       "      <td>119.9</td>\n",
       "      <td>3.4</td>\n",
       "    </tr>\n",
       "    <tr>\n",
       "      <th>8168</th>\n",
       "      <td>560720</td>\n",
       "      <td>Dark Angels: Masquerade of Shadows</td>\n",
       "      <td>3.99</td>\n",
       "      <td>28</td>\n",
       "      <td>147.3</td>\n",
       "      <td>5.260714</td>\n",
       "      <td>1.836329</td>\n",
       "      <td>10.6</td>\n",
       "      <td>3.2</td>\n",
       "    </tr>\n",
       "    <tr>\n",
       "      <th>...</th>\n",
       "      <td>...</td>\n",
       "      <td>...</td>\n",
       "      <td>...</td>\n",
       "      <td>...</td>\n",
       "      <td>...</td>\n",
       "      <td>...</td>\n",
       "      <td>...</td>\n",
       "      <td>...</td>\n",
       "      <td>...</td>\n",
       "    </tr>\n",
       "    <tr>\n",
       "      <th>2996</th>\n",
       "      <td>351090</td>\n",
       "      <td>Regency Solitaire</td>\n",
       "      <td>9.99</td>\n",
       "      <td>253</td>\n",
       "      <td>5103.0</td>\n",
       "      <td>20.169960</td>\n",
       "      <td>32.886284</td>\n",
       "      <td>291.1</td>\n",
       "      <td>0.1</td>\n",
       "    </tr>\n",
       "    <tr>\n",
       "      <th>2995</th>\n",
       "      <td>477870</td>\n",
       "      <td>Yomawari: Night Alone / 夜廻</td>\n",
       "      <td>19.99</td>\n",
       "      <td>253</td>\n",
       "      <td>2746.2</td>\n",
       "      <td>10.854545</td>\n",
       "      <td>14.903367</td>\n",
       "      <td>100.6</td>\n",
       "      <td>0.1</td>\n",
       "    </tr>\n",
       "    <tr>\n",
       "      <th>2994</th>\n",
       "      <td>1640</td>\n",
       "      <td>Disciples II: Gallean's Return</td>\n",
       "      <td>6.99</td>\n",
       "      <td>253</td>\n",
       "      <td>10001.8</td>\n",
       "      <td>39.532806</td>\n",
       "      <td>89.026388</td>\n",
       "      <td>1014.9</td>\n",
       "      <td>0.1</td>\n",
       "    </tr>\n",
       "    <tr>\n",
       "      <th>2993</th>\n",
       "      <td>390290</td>\n",
       "      <td>Bulb Boy</td>\n",
       "      <td>8.99</td>\n",
       "      <td>253</td>\n",
       "      <td>810.3</td>\n",
       "      <td>3.202767</td>\n",
       "      <td>2.283627</td>\n",
       "      <td>19.4</td>\n",
       "      <td>0.1</td>\n",
       "    </tr>\n",
       "    <tr>\n",
       "      <th>8550</th>\n",
       "      <td>326630</td>\n",
       "      <td>Club Manager 2015</td>\n",
       "      <td>9.99</td>\n",
       "      <td>25</td>\n",
       "      <td>532.9</td>\n",
       "      <td>21.316000</td>\n",
       "      <td>39.594178</td>\n",
       "      <td>133.4</td>\n",
       "      <td>0.1</td>\n",
       "    </tr>\n",
       "  </tbody>\n",
       "</table>\n",
       "<p>7581 rows × 9 columns</p>\n",
       "</div>"
      ],
      "text/plain": [
       "      product_id                            app_name  price  Total_reviews  \\\n",
       "8048      643900                      Alvora Tactics   9.99             29   \n",
       "5379      372940       Lost Lands: The Four Horsemen   6.99             80   \n",
       "7648      504800                     Sorcery! Part 4   9.99             33   \n",
       "4445      433000        Lost Lands: The Golden Curse   6.99            120   \n",
       "8168      560720  Dark Angels: Masquerade of Shadows   3.99             28   \n",
       "...          ...                                 ...    ...            ...   \n",
       "2996      351090                   Regency Solitaire   9.99            253   \n",
       "2995      477870          Yomawari: Night Alone / 夜廻  19.99            253   \n",
       "2994        1640      Disciples II: Gallean's Return   6.99            253   \n",
       "2993      390290                            Bulb Boy   8.99            253   \n",
       "8550      326630                   Club Manager 2015   9.99             25   \n",
       "\n",
       "      Horas_jugadas_suma  Horas_jugadas_promedio  Std_horas_jugadas  \\\n",
       "8048               750.9               25.893103          21.795772   \n",
       "5379              1606.7               20.083750          30.048659   \n",
       "7648               908.6               27.533333          57.279821   \n",
       "4445              1941.1               16.175833          14.133487   \n",
       "8168               147.3                5.260714           1.836329   \n",
       "...                  ...                     ...                ...   \n",
       "2996              5103.0               20.169960          32.886284   \n",
       "2995              2746.2               10.854545          14.903367   \n",
       "2994             10001.8               39.532806          89.026388   \n",
       "2993               810.3                3.202767           2.283627   \n",
       "8550               532.9               21.316000          39.594178   \n",
       "\n",
       "      Max_horas_jugadas  Min_horas_jugadas  \n",
       "8048              108.7                5.5  \n",
       "5379              193.0                3.6  \n",
       "7648              321.9                3.5  \n",
       "4445              119.9                3.4  \n",
       "8168               10.6                3.2  \n",
       "...                 ...                ...  \n",
       "2996              291.1                0.1  \n",
       "2995              100.6                0.1  \n",
       "2994             1014.9                0.1  \n",
       "2993               19.4                0.1  \n",
       "8550              133.4                0.1  \n",
       "\n",
       "[7581 rows x 9 columns]"
      ]
     },
     "execution_count": 166,
     "metadata": {},
     "output_type": "execute_result"
    }
   ],
   "source": [
    "Calificaciones_byID.sort_values(by=\"Min_horas_jugadas\", ascending=False)"
   ]
  },
  {
   "cell_type": "markdown",
   "metadata": {},
   "source": [
    "> Con el cuadro anterior se puede responder varias preguntas: ¿Cuál fue el juego más valorado?, ¿el menos valorado?, ¿el más caro?, ¿el más jugado?, ¿el menos jugado?\n",
    "\n",
    "> Se agregaron columnas como la desviación estándar por cada juego, el min y máx de horas por cada juego. Se puede observar que esos valores son muy dispersos. Esto podría explicarse por la naturaleza de los jugadores, es decir: existen jugadores que compran  mucho y juegan un montón porque ya sea que tienen las posibilidades de comprarse cualquier juego que salga o porque tienen canales en las redes sociales y esto se compara con los jugadores promedios que pueden comprar un juego de vez en cuando y juegar lo usual para completar ciertas partida.\n",
    "\n",
    "> También es importante destacar que algunos juegos no tienen final y por ello el contador de horas jugadas crecerá sin límites.\n",
    "\n"
   ]
  },
  {
   "cell_type": "markdown",
   "metadata": {},
   "source": [
    "#### ¿Cuáles son los juegos con más reviews hechas por los usuarios? (top 10)"
   ]
  },
  {
   "cell_type": "code",
   "execution_count": 167,
   "metadata": {},
   "outputs": [
    {
     "data": {
      "text/html": [
       "<div>\n",
       "<style scoped>\n",
       "    .dataframe tbody tr th:only-of-type {\n",
       "        vertical-align: middle;\n",
       "    }\n",
       "\n",
       "    .dataframe tbody tr th {\n",
       "        vertical-align: top;\n",
       "    }\n",
       "\n",
       "    .dataframe thead th {\n",
       "        text-align: right;\n",
       "    }\n",
       "</style>\n",
       "<table border=\"1\" class=\"dataframe\">\n",
       "  <thead>\n",
       "    <tr style=\"text-align: right;\">\n",
       "      <th></th>\n",
       "      <th>product_id</th>\n",
       "      <th>app_name</th>\n",
       "      <th>price</th>\n",
       "      <th>Total_reviews</th>\n",
       "      <th>Horas_jugadas_suma</th>\n",
       "      <th>Horas_jugadas_promedio</th>\n",
       "      <th>Std_horas_jugadas</th>\n",
       "      <th>Max_horas_jugadas</th>\n",
       "      <th>Min_horas_jugadas</th>\n",
       "    </tr>\n",
       "  </thead>\n",
       "  <tbody>\n",
       "    <tr>\n",
       "      <th>0</th>\n",
       "      <td>252490</td>\n",
       "      <td>Rust</td>\n",
       "      <td>19.99</td>\n",
       "      <td>68029</td>\n",
       "      <td>30231292.1</td>\n",
       "      <td>444.388306</td>\n",
       "      <td>714.449402</td>\n",
       "      <td>18549.8</td>\n",
       "      <td>0.1</td>\n",
       "    </tr>\n",
       "    <tr>\n",
       "      <th>1</th>\n",
       "      <td>49520</td>\n",
       "      <td>Borderlands 2</td>\n",
       "      <td>19.99</td>\n",
       "      <td>50571</td>\n",
       "      <td>8509649.8</td>\n",
       "      <td>168.271337</td>\n",
       "      <td>281.342454</td>\n",
       "      <td>10296.4</td>\n",
       "      <td>0.1</td>\n",
       "    </tr>\n",
       "    <tr>\n",
       "      <th>2</th>\n",
       "      <td>377160</td>\n",
       "      <td>Fallout 4</td>\n",
       "      <td>29.99</td>\n",
       "      <td>48041</td>\n",
       "      <td>11005975.2</td>\n",
       "      <td>229.095464</td>\n",
       "      <td>329.506992</td>\n",
       "      <td>10031.2</td>\n",
       "      <td>0.1</td>\n",
       "    </tr>\n",
       "    <tr>\n",
       "      <th>3</th>\n",
       "      <td>271590</td>\n",
       "      <td>Grand Theft Auto V</td>\n",
       "      <td>39.99</td>\n",
       "      <td>41843</td>\n",
       "      <td>9155679.7</td>\n",
       "      <td>218.810308</td>\n",
       "      <td>297.801179</td>\n",
       "      <td>5918.8</td>\n",
       "      <td>0.1</td>\n",
       "    </tr>\n",
       "    <tr>\n",
       "      <th>4</th>\n",
       "      <td>391540</td>\n",
       "      <td>Undertale</td>\n",
       "      <td>9.99</td>\n",
       "      <td>40304</td>\n",
       "      <td>1295294.7</td>\n",
       "      <td>32.138118</td>\n",
       "      <td>64.690743</td>\n",
       "      <td>6567.5</td>\n",
       "      <td>0.1</td>\n",
       "    </tr>\n",
       "    <tr>\n",
       "      <th>5</th>\n",
       "      <td>221100</td>\n",
       "      <td>DayZ</td>\n",
       "      <td>34.99</td>\n",
       "      <td>39695</td>\n",
       "      <td>9691135.5</td>\n",
       "      <td>244.139955</td>\n",
       "      <td>431.749636</td>\n",
       "      <td>10879.2</td>\n",
       "      <td>0.1</td>\n",
       "    </tr>\n",
       "    <tr>\n",
       "      <th>6</th>\n",
       "      <td>620</td>\n",
       "      <td>Portal 2</td>\n",
       "      <td>19.99</td>\n",
       "      <td>38842</td>\n",
       "      <td>1713799.6</td>\n",
       "      <td>44.122331</td>\n",
       "      <td>182.487725</td>\n",
       "      <td>24176.7</td>\n",
       "      <td>0.1</td>\n",
       "    </tr>\n",
       "    <tr>\n",
       "      <th>7</th>\n",
       "      <td>4000</td>\n",
       "      <td>Garry's Mod</td>\n",
       "      <td>9.99</td>\n",
       "      <td>33660</td>\n",
       "      <td>18868569.8</td>\n",
       "      <td>560.563571</td>\n",
       "      <td>1004.034841</td>\n",
       "      <td>17993.9</td>\n",
       "      <td>0.1</td>\n",
       "    </tr>\n",
       "    <tr>\n",
       "      <th>8</th>\n",
       "      <td>346110</td>\n",
       "      <td>ARK: Survival Evolved</td>\n",
       "      <td>59.99</td>\n",
       "      <td>30558</td>\n",
       "      <td>15713131.9</td>\n",
       "      <td>514.206817</td>\n",
       "      <td>849.681242</td>\n",
       "      <td>12006.1</td>\n",
       "      <td>0.1</td>\n",
       "    </tr>\n",
       "    <tr>\n",
       "      <th>9</th>\n",
       "      <td>433850</td>\n",
       "      <td>H1Z1</td>\n",
       "      <td>19.99</td>\n",
       "      <td>30498</td>\n",
       "      <td>7306493.7</td>\n",
       "      <td>239.572880</td>\n",
       "      <td>408.988885</td>\n",
       "      <td>10144.2</td>\n",
       "      <td>0.1</td>\n",
       "    </tr>\n",
       "  </tbody>\n",
       "</table>\n",
       "</div>"
      ],
      "text/plain": [
       "   product_id               app_name  price  Total_reviews  \\\n",
       "0      252490                   Rust  19.99          68029   \n",
       "1       49520          Borderlands 2  19.99          50571   \n",
       "2      377160              Fallout 4  29.99          48041   \n",
       "3      271590     Grand Theft Auto V  39.99          41843   \n",
       "4      391540              Undertale   9.99          40304   \n",
       "5      221100                   DayZ  34.99          39695   \n",
       "6         620               Portal 2  19.99          38842   \n",
       "7        4000            Garry's Mod   9.99          33660   \n",
       "8      346110  ARK: Survival Evolved  59.99          30558   \n",
       "9      433850                   H1Z1  19.99          30498   \n",
       "\n",
       "   Horas_jugadas_suma  Horas_jugadas_promedio  Std_horas_jugadas  \\\n",
       "0          30231292.1              444.388306         714.449402   \n",
       "1           8509649.8              168.271337         281.342454   \n",
       "2          11005975.2              229.095464         329.506992   \n",
       "3           9155679.7              218.810308         297.801179   \n",
       "4           1295294.7               32.138118          64.690743   \n",
       "5           9691135.5              244.139955         431.749636   \n",
       "6           1713799.6               44.122331         182.487725   \n",
       "7          18868569.8              560.563571        1004.034841   \n",
       "8          15713131.9              514.206817         849.681242   \n",
       "9           7306493.7              239.572880         408.988885   \n",
       "\n",
       "   Max_horas_jugadas  Min_horas_jugadas  \n",
       "0            18549.8                0.1  \n",
       "1            10296.4                0.1  \n",
       "2            10031.2                0.1  \n",
       "3             5918.8                0.1  \n",
       "4             6567.5                0.1  \n",
       "5            10879.2                0.1  \n",
       "6            24176.7                0.1  \n",
       "7            17993.9                0.1  \n",
       "8            12006.1                0.1  \n",
       "9            10144.2                0.1  "
      ]
     },
     "execution_count": 167,
     "metadata": {},
     "output_type": "execute_result"
    }
   ],
   "source": [
    "Calificaciones_byID.sort_values(by=\"Total_reviews\", ascending=False).head(10).reset_index(drop=True)"
   ]
  },
  {
   "cell_type": "markdown",
   "metadata": {},
   "source": [
    "> Cuadro que indica los juegos más relevantes, que contiene una cantidad considerabale de reviews hechas por los usuarios"
   ]
  },
  {
   "cell_type": "markdown",
   "metadata": {},
   "source": [
    "#### ¿Y, cuáles son los juegos **más** jugados? (top 10)"
   ]
  },
  {
   "cell_type": "code",
   "execution_count": 168,
   "metadata": {},
   "outputs": [
    {
     "data": {
      "text/html": [
       "<div>\n",
       "<style scoped>\n",
       "    .dataframe tbody tr th:only-of-type {\n",
       "        vertical-align: middle;\n",
       "    }\n",
       "\n",
       "    .dataframe tbody tr th {\n",
       "        vertical-align: top;\n",
       "    }\n",
       "\n",
       "    .dataframe thead th {\n",
       "        text-align: right;\n",
       "    }\n",
       "</style>\n",
       "<table border=\"1\" class=\"dataframe\">\n",
       "  <thead>\n",
       "    <tr style=\"text-align: right;\">\n",
       "      <th></th>\n",
       "      <th>product_id</th>\n",
       "      <th>app_name</th>\n",
       "      <th>price</th>\n",
       "      <th>Total_reviews</th>\n",
       "      <th>Horas_jugadas_suma</th>\n",
       "      <th>Horas_jugadas_promedio</th>\n",
       "      <th>Std_horas_jugadas</th>\n",
       "      <th>Max_horas_jugadas</th>\n",
       "      <th>Min_horas_jugadas</th>\n",
       "    </tr>\n",
       "  </thead>\n",
       "  <tbody>\n",
       "    <tr>\n",
       "      <th>0</th>\n",
       "      <td>252490</td>\n",
       "      <td>Rust</td>\n",
       "      <td>19.99</td>\n",
       "      <td>68029</td>\n",
       "      <td>30231292.1</td>\n",
       "      <td>444.388306</td>\n",
       "      <td>714.449402</td>\n",
       "      <td>18549.8</td>\n",
       "      <td>0.1</td>\n",
       "    </tr>\n",
       "    <tr>\n",
       "      <th>1</th>\n",
       "      <td>4000</td>\n",
       "      <td>Garry's Mod</td>\n",
       "      <td>9.99</td>\n",
       "      <td>33660</td>\n",
       "      <td>18868569.8</td>\n",
       "      <td>560.563571</td>\n",
       "      <td>1004.034841</td>\n",
       "      <td>17993.9</td>\n",
       "      <td>0.1</td>\n",
       "    </tr>\n",
       "    <tr>\n",
       "      <th>2</th>\n",
       "      <td>107410</td>\n",
       "      <td>Arma 3</td>\n",
       "      <td>39.99</td>\n",
       "      <td>28865</td>\n",
       "      <td>18328683.8</td>\n",
       "      <td>634.979518</td>\n",
       "      <td>957.802607</td>\n",
       "      <td>19301.1</td>\n",
       "      <td>0.1</td>\n",
       "    </tr>\n",
       "    <tr>\n",
       "      <th>3</th>\n",
       "      <td>346110</td>\n",
       "      <td>ARK: Survival Evolved</td>\n",
       "      <td>59.99</td>\n",
       "      <td>30558</td>\n",
       "      <td>15713131.9</td>\n",
       "      <td>514.206817</td>\n",
       "      <td>849.681242</td>\n",
       "      <td>12006.1</td>\n",
       "      <td>0.1</td>\n",
       "    </tr>\n",
       "    <tr>\n",
       "      <th>4</th>\n",
       "      <td>377160</td>\n",
       "      <td>Fallout 4</td>\n",
       "      <td>29.99</td>\n",
       "      <td>48041</td>\n",
       "      <td>11005975.2</td>\n",
       "      <td>229.095464</td>\n",
       "      <td>329.506992</td>\n",
       "      <td>10031.2</td>\n",
       "      <td>0.1</td>\n",
       "    </tr>\n",
       "    <tr>\n",
       "      <th>5</th>\n",
       "      <td>48700</td>\n",
       "      <td>Mount &amp; Blade: Warband</td>\n",
       "      <td>19.99</td>\n",
       "      <td>25653</td>\n",
       "      <td>10376963.9</td>\n",
       "      <td>404.512685</td>\n",
       "      <td>631.183613</td>\n",
       "      <td>18720.5</td>\n",
       "      <td>0.1</td>\n",
       "    </tr>\n",
       "    <tr>\n",
       "      <th>6</th>\n",
       "      <td>240</td>\n",
       "      <td>Counter-Strike: Source</td>\n",
       "      <td>19.99</td>\n",
       "      <td>20966</td>\n",
       "      <td>10075214.4</td>\n",
       "      <td>480.550148</td>\n",
       "      <td>1070.861394</td>\n",
       "      <td>26928.8</td>\n",
       "      <td>0.1</td>\n",
       "    </tr>\n",
       "    <tr>\n",
       "      <th>7</th>\n",
       "      <td>221100</td>\n",
       "      <td>DayZ</td>\n",
       "      <td>34.99</td>\n",
       "      <td>39695</td>\n",
       "      <td>9691135.5</td>\n",
       "      <td>244.139955</td>\n",
       "      <td>431.749636</td>\n",
       "      <td>10879.2</td>\n",
       "      <td>0.1</td>\n",
       "    </tr>\n",
       "    <tr>\n",
       "      <th>8</th>\n",
       "      <td>271590</td>\n",
       "      <td>Grand Theft Auto V</td>\n",
       "      <td>39.99</td>\n",
       "      <td>41843</td>\n",
       "      <td>9155679.7</td>\n",
       "      <td>218.810308</td>\n",
       "      <td>297.801179</td>\n",
       "      <td>5918.8</td>\n",
       "      <td>0.1</td>\n",
       "    </tr>\n",
       "    <tr>\n",
       "      <th>9</th>\n",
       "      <td>49520</td>\n",
       "      <td>Borderlands 2</td>\n",
       "      <td>19.99</td>\n",
       "      <td>50571</td>\n",
       "      <td>8509649.8</td>\n",
       "      <td>168.271337</td>\n",
       "      <td>281.342454</td>\n",
       "      <td>10296.4</td>\n",
       "      <td>0.1</td>\n",
       "    </tr>\n",
       "  </tbody>\n",
       "</table>\n",
       "</div>"
      ],
      "text/plain": [
       "   product_id                app_name  price  Total_reviews  \\\n",
       "0      252490                    Rust  19.99          68029   \n",
       "1        4000             Garry's Mod   9.99          33660   \n",
       "2      107410                  Arma 3  39.99          28865   \n",
       "3      346110   ARK: Survival Evolved  59.99          30558   \n",
       "4      377160               Fallout 4  29.99          48041   \n",
       "5       48700  Mount & Blade: Warband  19.99          25653   \n",
       "6         240  Counter-Strike: Source  19.99          20966   \n",
       "7      221100                    DayZ  34.99          39695   \n",
       "8      271590      Grand Theft Auto V  39.99          41843   \n",
       "9       49520           Borderlands 2  19.99          50571   \n",
       "\n",
       "   Horas_jugadas_suma  Horas_jugadas_promedio  Std_horas_jugadas  \\\n",
       "0          30231292.1              444.388306         714.449402   \n",
       "1          18868569.8              560.563571        1004.034841   \n",
       "2          18328683.8              634.979518         957.802607   \n",
       "3          15713131.9              514.206817         849.681242   \n",
       "4          11005975.2              229.095464         329.506992   \n",
       "5          10376963.9              404.512685         631.183613   \n",
       "6          10075214.4              480.550148        1070.861394   \n",
       "7           9691135.5              244.139955         431.749636   \n",
       "8           9155679.7              218.810308         297.801179   \n",
       "9           8509649.8              168.271337         281.342454   \n",
       "\n",
       "   Max_horas_jugadas  Min_horas_jugadas  \n",
       "0            18549.8                0.1  \n",
       "1            17993.9                0.1  \n",
       "2            19301.1                0.1  \n",
       "3            12006.1                0.1  \n",
       "4            10031.2                0.1  \n",
       "5            18720.5                0.1  \n",
       "6            26928.8                0.1  \n",
       "7            10879.2                0.1  \n",
       "8             5918.8                0.1  \n",
       "9            10296.4                0.1  "
      ]
     },
     "execution_count": 168,
     "metadata": {},
     "output_type": "execute_result"
    }
   ],
   "source": [
    "Calificaciones_byID.sort_values(by=\"Horas_jugadas_suma\", ascending=False).head(10).reset_index(drop=True)"
   ]
  },
  {
   "cell_type": "markdown",
   "metadata": {},
   "source": [
    "> Cuadro que indica cuáles son los juegos con horjas más jugadas, coincide con el top de revies hecha. Esto se explica porque si un juego es jugado por mucho tiempo generaría más reseñas describiendo la experiencia."
   ]
  },
  {
   "cell_type": "markdown",
   "metadata": {},
   "source": [
    "### ¿Y cuáles son los jugadores qué más reviews hacen? (top 10)"
   ]
  },
  {
   "cell_type": "code",
   "execution_count": 219,
   "metadata": {},
   "outputs": [
    {
     "name": "stdout",
     "output_type": "stream",
     "text": [
      "Wall time: 4.02 s\n"
     ]
    },
    {
     "data": {
      "text/html": [
       "<div>\n",
       "<style scoped>\n",
       "    .dataframe tbody tr th:only-of-type {\n",
       "        vertical-align: middle;\n",
       "    }\n",
       "\n",
       "    .dataframe tbody tr th {\n",
       "        vertical-align: top;\n",
       "    }\n",
       "\n",
       "    .dataframe thead th {\n",
       "        text-align: right;\n",
       "    }\n",
       "</style>\n",
       "<table border=\"1\" class=\"dataframe\">\n",
       "  <thead>\n",
       "    <tr style=\"text-align: right;\">\n",
       "      <th></th>\n",
       "      <th>Reviews_hechas</th>\n",
       "    </tr>\n",
       "  </thead>\n",
       "  <tbody>\n",
       "    <tr>\n",
       "      <th>Saint Aaron</th>\n",
       "      <td>1235</td>\n",
       "    </tr>\n",
       "    <tr>\n",
       "      <th>Kodyd194</th>\n",
       "      <td>1100</td>\n",
       "    </tr>\n",
       "    <tr>\n",
       "      <th>VahidSlayerOfAll</th>\n",
       "      <td>885</td>\n",
       "    </tr>\n",
       "    <tr>\n",
       "      <th>Alex</th>\n",
       "      <td>869</td>\n",
       "    </tr>\n",
       "    <tr>\n",
       "      <th>Nick</th>\n",
       "      <td>861</td>\n",
       "    </tr>\n",
       "    <tr>\n",
       "      <th>Chris</th>\n",
       "      <td>805</td>\n",
       "    </tr>\n",
       "    <tr>\n",
       "      <th>Tom</th>\n",
       "      <td>805</td>\n",
       "    </tr>\n",
       "    <tr>\n",
       "      <th>Salarn</th>\n",
       "      <td>774</td>\n",
       "    </tr>\n",
       "    <tr>\n",
       "      <th>..</th>\n",
       "      <td>731</td>\n",
       "    </tr>\n",
       "    <tr>\n",
       "      <th>Sarkoth</th>\n",
       "      <td>730</td>\n",
       "    </tr>\n",
       "  </tbody>\n",
       "</table>\n",
       "</div>"
      ],
      "text/plain": [
       "                  Reviews_hechas\n",
       "Saint Aaron                 1235\n",
       "Kodyd194                    1100\n",
       "VahidSlayerOfAll             885\n",
       "Alex                         869\n",
       "Nick                         861\n",
       "Chris                        805\n",
       "Tom                          805\n",
       "Salarn                       774\n",
       "..                           731\n",
       "Sarkoth                      730"
      ]
     },
     "execution_count": 219,
     "metadata": {},
     "output_type": "execute_result"
    }
   ],
   "source": [
    "%%time\n",
    "data_aux_reviews = data_reviews.username.value_counts().to_frame().rename(columns={'username':'Reviews_hechas'})\n",
    "data_aux_reviews.head(10)"
   ]
  },
  {
   "cell_type": "markdown",
   "metadata": {},
   "source": [
    "> Cuadro que muestra a todos los jugadores con más reviews hechas. Estos usuarios podrían los que poseen más actividad en las redes sociales para demostrar y explotar la mayoría de juegos jugados."
   ]
  },
  {
   "cell_type": "markdown",
   "metadata": {},
   "source": [
    "### ¿Y cuáles son los juegos más costosos? (top 10)"
   ]
  },
  {
   "cell_type": "code",
   "execution_count": 217,
   "metadata": {},
   "outputs": [
    {
     "data": {
      "text/html": [
       "<div>\n",
       "<style scoped>\n",
       "    .dataframe tbody tr th:only-of-type {\n",
       "        vertical-align: middle;\n",
       "    }\n",
       "\n",
       "    .dataframe tbody tr th {\n",
       "        vertical-align: top;\n",
       "    }\n",
       "\n",
       "    .dataframe thead th {\n",
       "        text-align: right;\n",
       "    }\n",
       "</style>\n",
       "<table border=\"1\" class=\"dataframe\">\n",
       "  <thead>\n",
       "    <tr style=\"text-align: right;\">\n",
       "      <th></th>\n",
       "      <th>product_id</th>\n",
       "      <th>app_name</th>\n",
       "      <th>price</th>\n",
       "      <th>Total_reviews</th>\n",
       "      <th>Horas_jugadas_suma</th>\n",
       "      <th>Horas_jugadas_promedio</th>\n",
       "      <th>Std_horas_jugadas</th>\n",
       "      <th>Max_horas_jugadas</th>\n",
       "      <th>Min_horas_jugadas</th>\n",
       "    </tr>\n",
       "  </thead>\n",
       "  <tbody>\n",
       "    <tr>\n",
       "      <th>0</th>\n",
       "      <td>292180</td>\n",
       "      <td>X-Plane 10 Global - 64 Bit</td>\n",
       "      <td>771.71</td>\n",
       "      <td>582</td>\n",
       "      <td>94935.8</td>\n",
       "      <td>163.119931</td>\n",
       "      <td>373.105816</td>\n",
       "      <td>3933.9</td>\n",
       "      <td>0.2</td>\n",
       "    </tr>\n",
       "    <tr>\n",
       "      <th>1</th>\n",
       "      <td>401090</td>\n",
       "      <td>MODO indie 10</td>\n",
       "      <td>299.99</td>\n",
       "      <td>54</td>\n",
       "      <td>25353.7</td>\n",
       "      <td>469.512963</td>\n",
       "      <td>733.938784</td>\n",
       "      <td>2685.8</td>\n",
       "      <td>1.8</td>\n",
       "    </tr>\n",
       "    <tr>\n",
       "      <th>2</th>\n",
       "      <td>442120</td>\n",
       "      <td>Pinball FX3</td>\n",
       "      <td>202.76</td>\n",
       "      <td>264</td>\n",
       "      <td>6457.9</td>\n",
       "      <td>24.461742</td>\n",
       "      <td>71.137007</td>\n",
       "      <td>913.9</td>\n",
       "      <td>0.1</td>\n",
       "    </tr>\n",
       "    <tr>\n",
       "      <th>3</th>\n",
       "      <td>528200</td>\n",
       "      <td>VEGAS Pro 14 Edit Steam Edition</td>\n",
       "      <td>199.00</td>\n",
       "      <td>268</td>\n",
       "      <td>22319.2</td>\n",
       "      <td>83.280597</td>\n",
       "      <td>181.777979</td>\n",
       "      <td>1510.8</td>\n",
       "      <td>0.1</td>\n",
       "    </tr>\n",
       "    <tr>\n",
       "      <th>4</th>\n",
       "      <td>285580</td>\n",
       "      <td>ACE - Arena: Cyber Evolution</td>\n",
       "      <td>189.96</td>\n",
       "      <td>674</td>\n",
       "      <td>17111.0</td>\n",
       "      <td>25.387240</td>\n",
       "      <td>147.034109</td>\n",
       "      <td>2631.4</td>\n",
       "      <td>0.1</td>\n",
       "    </tr>\n",
       "    <tr>\n",
       "      <th>5</th>\n",
       "      <td>211500</td>\n",
       "      <td>RaceRoom Racing Experience</td>\n",
       "      <td>160.91</td>\n",
       "      <td>3065</td>\n",
       "      <td>148726.5</td>\n",
       "      <td>48.524144</td>\n",
       "      <td>179.708856</td>\n",
       "      <td>4717.2</td>\n",
       "      <td>0.1</td>\n",
       "    </tr>\n",
       "    <tr>\n",
       "      <th>6</th>\n",
       "      <td>342570</td>\n",
       "      <td>HIS (Heroes In the Sky)</td>\n",
       "      <td>139.92</td>\n",
       "      <td>276</td>\n",
       "      <td>16698.9</td>\n",
       "      <td>60.503261</td>\n",
       "      <td>392.721630</td>\n",
       "      <td>4232.1</td>\n",
       "      <td>0.1</td>\n",
       "    </tr>\n",
       "    <tr>\n",
       "      <th>7</th>\n",
       "      <td>248170</td>\n",
       "      <td>Clickteam Fusion 2.5</td>\n",
       "      <td>99.99</td>\n",
       "      <td>330</td>\n",
       "      <td>198251.5</td>\n",
       "      <td>600.762121</td>\n",
       "      <td>1322.932666</td>\n",
       "      <td>11957.5</td>\n",
       "      <td>0.1</td>\n",
       "    </tr>\n",
       "    <tr>\n",
       "      <th>8</th>\n",
       "      <td>100980</td>\n",
       "      <td>3D-Coat V4.8</td>\n",
       "      <td>99.99</td>\n",
       "      <td>40</td>\n",
       "      <td>6772.4</td>\n",
       "      <td>169.310000</td>\n",
       "      <td>529.308035</td>\n",
       "      <td>3286.0</td>\n",
       "      <td>0.3</td>\n",
       "    </tr>\n",
       "    <tr>\n",
       "      <th>9</th>\n",
       "      <td>253670</td>\n",
       "      <td>Aartform Curvy 3D 3.0</td>\n",
       "      <td>99.99</td>\n",
       "      <td>34</td>\n",
       "      <td>1875.0</td>\n",
       "      <td>55.147059</td>\n",
       "      <td>139.321743</td>\n",
       "      <td>733.3</td>\n",
       "      <td>0.2</td>\n",
       "    </tr>\n",
       "  </tbody>\n",
       "</table>\n",
       "</div>"
      ],
      "text/plain": [
       "   product_id                         app_name   price  Total_reviews  \\\n",
       "0      292180       X-Plane 10 Global - 64 Bit  771.71            582   \n",
       "1      401090                    MODO indie 10  299.99             54   \n",
       "2      442120                      Pinball FX3  202.76            264   \n",
       "3      528200  VEGAS Pro 14 Edit Steam Edition  199.00            268   \n",
       "4      285580     ACE - Arena: Cyber Evolution  189.96            674   \n",
       "5      211500       RaceRoom Racing Experience  160.91           3065   \n",
       "6      342570          HIS (Heroes In the Sky)  139.92            276   \n",
       "7      248170             Clickteam Fusion 2.5   99.99            330   \n",
       "8      100980                     3D-Coat V4.8   99.99             40   \n",
       "9      253670            Aartform Curvy 3D 3.0   99.99             34   \n",
       "\n",
       "   Horas_jugadas_suma  Horas_jugadas_promedio  Std_horas_jugadas  \\\n",
       "0             94935.8              163.119931         373.105816   \n",
       "1             25353.7              469.512963         733.938784   \n",
       "2              6457.9               24.461742          71.137007   \n",
       "3             22319.2               83.280597         181.777979   \n",
       "4             17111.0               25.387240         147.034109   \n",
       "5            148726.5               48.524144         179.708856   \n",
       "6             16698.9               60.503261         392.721630   \n",
       "7            198251.5              600.762121        1322.932666   \n",
       "8              6772.4              169.310000         529.308035   \n",
       "9              1875.0               55.147059         139.321743   \n",
       "\n",
       "   Max_horas_jugadas  Min_horas_jugadas  \n",
       "0             3933.9                0.2  \n",
       "1             2685.8                1.8  \n",
       "2              913.9                0.1  \n",
       "3             1510.8                0.1  \n",
       "4             2631.4                0.1  \n",
       "5             4717.2                0.1  \n",
       "6             4232.1                0.1  \n",
       "7            11957.5                0.1  \n",
       "8             3286.0                0.3  \n",
       "9              733.3                0.2  "
      ]
     },
     "execution_count": 217,
     "metadata": {},
     "output_type": "execute_result"
    }
   ],
   "source": [
    "Calificaciones_byID.sort_values(by=\"price\", ascending=False).head(10).reset_index(drop=True)"
   ]
  },
  {
   "cell_type": "markdown",
   "metadata": {},
   "source": [
    "> El juego más caro no tiene muchas reviews, esto se explica a que pocos usuarios la pudieron comprar y por tanto no pudieron hacer su review."
   ]
  },
  {
   "cell_type": "markdown",
   "metadata": {},
   "source": [
    "### Estudiaremos algunas correlaciones entre las variables de la tabla de resumen estádistico."
   ]
  },
  {
   "cell_type": "code",
   "execution_count": 237,
   "metadata": {},
   "outputs": [
    {
     "data": {
      "image/png": "[encoded data removed]",
      "text/plain": [
       "<Figure size 1080x648 with 2 Axes>"
      ]
     },
     "metadata": {},
     "output_type": "display_data"
    }
   ],
   "source": [
    "corr =  Calificaciones_byID.corr()\n",
    "mask = np.zeros_like(corr)\n",
    "mask[np.triu_indices_from(mask)] = True\n",
    "with sns.axes_style(\"white\"):\n",
    "    f, ax = plt.subplots(figsize=(15, 9))\n",
    "    ax = sns.heatmap(corr, mask=mask, vmax=.3, square=True, annot=True)"
   ]
  },
  {
   "cell_type": "markdown",
   "metadata": {},
   "source": [
    "> Exsite una correlación positiva muy fuerte entre `horas_jugadas` con `Total_reviews`. Esto se explica porque mientras más tiempo sea jugado un juego más reviews generará para detallar la experiencia del usuario con el juego."
   ]
  },
  {
   "cell_type": "code",
   "execution_count": 218,
   "metadata": {},
   "outputs": [
    {
     "data": {
      "text/html": [
       "<div>\n",
       "<style scoped>\n",
       "    .dataframe tbody tr th:only-of-type {\n",
       "        vertical-align: middle;\n",
       "    }\n",
       "\n",
       "    .dataframe tbody tr th {\n",
       "        vertical-align: top;\n",
       "    }\n",
       "\n",
       "    .dataframe thead th {\n",
       "        text-align: right;\n",
       "    }\n",
       "</style>\n",
       "<table border=\"1\" class=\"dataframe\">\n",
       "  <thead>\n",
       "    <tr style=\"text-align: right;\">\n",
       "      <th></th>\n",
       "      <th>product_id</th>\n",
       "      <th>price</th>\n",
       "      <th>Total_reviews</th>\n",
       "      <th>Horas_jugadas_suma</th>\n",
       "      <th>Horas_jugadas_promedio</th>\n",
       "      <th>Std_horas_jugadas</th>\n",
       "      <th>Max_horas_jugadas</th>\n",
       "      <th>Min_horas_jugadas</th>\n",
       "    </tr>\n",
       "  </thead>\n",
       "  <tbody>\n",
       "    <tr>\n",
       "      <th>product_id</th>\n",
       "      <td>1.000000</td>\n",
       "      <td>-0.021151</td>\n",
       "      <td>-0.164292</td>\n",
       "      <td>-0.070964</td>\n",
       "      <td>-0.109345</td>\n",
       "      <td>-0.138785</td>\n",
       "      <td>-0.209575</td>\n",
       "      <td>0.143546</td>\n",
       "    </tr>\n",
       "    <tr>\n",
       "      <th>price</th>\n",
       "      <td>-0.021151</td>\n",
       "      <td>1.000000</td>\n",
       "      <td>0.161864</td>\n",
       "      <td>0.092699</td>\n",
       "      <td>0.296131</td>\n",
       "      <td>0.214482</td>\n",
       "      <td>0.190454</td>\n",
       "      <td>0.035913</td>\n",
       "    </tr>\n",
       "    <tr>\n",
       "      <th>Total_reviews</th>\n",
       "      <td>-0.164292</td>\n",
       "      <td>0.161864</td>\n",
       "      <td>1.000000</td>\n",
       "      <td>0.730588</td>\n",
       "      <td>0.320023</td>\n",
       "      <td>0.223566</td>\n",
       "      <td>0.491946</td>\n",
       "      <td>-0.072004</td>\n",
       "    </tr>\n",
       "    <tr>\n",
       "      <th>Horas_jugadas_suma</th>\n",
       "      <td>-0.070964</td>\n",
       "      <td>0.092699</td>\n",
       "      <td>0.730588</td>\n",
       "      <td>1.000000</td>\n",
       "      <td>0.426392</td>\n",
       "      <td>0.280211</td>\n",
       "      <td>0.408927</td>\n",
       "      <td>-0.024282</td>\n",
       "    </tr>\n",
       "    <tr>\n",
       "      <th>Horas_jugadas_promedio</th>\n",
       "      <td>-0.109345</td>\n",
       "      <td>0.296131</td>\n",
       "      <td>0.320023</td>\n",
       "      <td>0.426392</td>\n",
       "      <td>1.000000</td>\n",
       "      <td>0.857324</td>\n",
       "      <td>0.628780</td>\n",
       "      <td>-0.001917</td>\n",
       "    </tr>\n",
       "    <tr>\n",
       "      <th>Std_horas_jugadas</th>\n",
       "      <td>-0.138785</td>\n",
       "      <td>0.214482</td>\n",
       "      <td>0.223566</td>\n",
       "      <td>0.280211</td>\n",
       "      <td>0.857324</td>\n",
       "      <td>1.000000</td>\n",
       "      <td>0.778485</td>\n",
       "      <td>-0.036801</td>\n",
       "    </tr>\n",
       "    <tr>\n",
       "      <th>Max_horas_jugadas</th>\n",
       "      <td>-0.209575</td>\n",
       "      <td>0.190454</td>\n",
       "      <td>0.491946</td>\n",
       "      <td>0.408927</td>\n",
       "      <td>0.628780</td>\n",
       "      <td>0.778485</td>\n",
       "      <td>1.000000</td>\n",
       "      <td>-0.073178</td>\n",
       "    </tr>\n",
       "    <tr>\n",
       "      <th>Min_horas_jugadas</th>\n",
       "      <td>0.143546</td>\n",
       "      <td>0.035913</td>\n",
       "      <td>-0.072004</td>\n",
       "      <td>-0.024282</td>\n",
       "      <td>-0.001917</td>\n",
       "      <td>-0.036801</td>\n",
       "      <td>-0.073178</td>\n",
       "      <td>1.000000</td>\n",
       "    </tr>\n",
       "  </tbody>\n",
       "</table>\n",
       "</div>"
      ],
      "text/plain": [
       "                        product_id     price  Total_reviews  \\\n",
       "product_id                1.000000 -0.021151      -0.164292   \n",
       "price                    -0.021151  1.000000       0.161864   \n",
       "Total_reviews            -0.164292  0.161864       1.000000   \n",
       "Horas_jugadas_suma       -0.070964  0.092699       0.730588   \n",
       "Horas_jugadas_promedio   -0.109345  0.296131       0.320023   \n",
       "Std_horas_jugadas        -0.138785  0.214482       0.223566   \n",
       "Max_horas_jugadas        -0.209575  0.190454       0.491946   \n",
       "Min_horas_jugadas         0.143546  0.035913      -0.072004   \n",
       "\n",
       "                        Horas_jugadas_suma  Horas_jugadas_promedio  \\\n",
       "product_id                       -0.070964               -0.109345   \n",
       "price                             0.092699                0.296131   \n",
       "Total_reviews                     0.730588                0.320023   \n",
       "Horas_jugadas_suma                1.000000                0.426392   \n",
       "Horas_jugadas_promedio            0.426392                1.000000   \n",
       "Std_horas_jugadas                 0.280211                0.857324   \n",
       "Max_horas_jugadas                 0.408927                0.628780   \n",
       "Min_horas_jugadas                -0.024282               -0.001917   \n",
       "\n",
       "                        Std_horas_jugadas  Max_horas_jugadas  \\\n",
       "product_id                      -0.138785          -0.209575   \n",
       "price                            0.214482           0.190454   \n",
       "Total_reviews                    0.223566           0.491946   \n",
       "Horas_jugadas_suma               0.280211           0.408927   \n",
       "Horas_jugadas_promedio           0.857324           0.628780   \n",
       "Std_horas_jugadas                1.000000           0.778485   \n",
       "Max_horas_jugadas                0.778485           1.000000   \n",
       "Min_horas_jugadas               -0.036801          -0.073178   \n",
       "\n",
       "                        Min_horas_jugadas  \n",
       "product_id                       0.143546  \n",
       "price                            0.035913  \n",
       "Total_reviews                   -0.072004  \n",
       "Horas_jugadas_suma              -0.024282  \n",
       "Horas_jugadas_promedio          -0.001917  \n",
       "Std_horas_jugadas               -0.036801  \n",
       "Max_horas_jugadas               -0.073178  \n",
       "Min_horas_jugadas                1.000000  "
      ]
     },
     "execution_count": 218,
     "metadata": {},
     "output_type": "execute_result"
    }
   ],
   "source": [
    "Calificaciones_byID.corr()"
   ]
  },
  {
   "cell_type": "markdown",
   "metadata": {},
   "source": [
    "### Estuadiamos la distribución de la varibale `hours` del dataset `data_reviews`"
   ]
  },
  {
   "cell_type": "code",
   "execution_count": 280,
   "metadata": {},
   "outputs": [
    {
     "data": {
      "text/plain": [
       "count    6859674.00\n",
       "mean         101.08\n",
       "std          373.82\n",
       "min            0.10\n",
       "25%            3.60\n",
       "50%           13.70\n",
       "75%           52.20\n",
       "max        42100.70\n",
       "Name: hours, dtype: float64"
      ]
     },
     "execution_count": 280,
     "metadata": {},
     "output_type": "execute_result"
    }
   ],
   "source": [
    "round(data_reviews.hours.describe(),2)"
   ]
  },
  {
   "cell_type": "code",
   "execution_count": 342,
   "metadata": {},
   "outputs": [
    {
     "name": "stdout",
     "output_type": "stream",
     "text": [
      "Existen: 4789655  jugadores con al menos 5 horas jugadas\n",
      "Existen: 3897470  jugadores con al menos 10 horas jugadas\n",
      "Existen: 3307299  jugadores con al menos 15 horas jugadas\n",
      "Existen: 2897677  jugadores con al menos 20 horas jugadas\n",
      "Existen: 2594773  jugadores con al menos 25 horas jugadas\n",
      "Existen: 2357912  jugadores con al menos 30 horas jugadas\n"
     ]
    }
   ],
   "source": [
    "for i in np.arange(5, 35,step=5):\n",
    "    print(f'Existen: {data_reviews.hours[data_reviews.hours>=i].shape[0]}  jugadores con al menos {i} horas jugadas')"
   ]
  },
  {
   "cell_type": "code",
   "execution_count": 272,
   "metadata": {},
   "outputs": [
    {
     "data": {
      "image/png": "[encoded data removed]",
      "text/plain": [
       "<Figure size 1008x360 with 2 Axes>"
      ]
     },
     "metadata": {
      "needs_background": "light"
     },
     "output_type": "display_data"
    }
   ],
   "source": [
    "max_hour=100\n",
    "plt.figure(figsize=(14, 5))\n",
    "plt.subplot(1,2,1)\n",
    "sns.boxplot(y=data_reviews.hours[data_reviews.hours<max_hour])\n",
    "plt.title(\"Diagrama de cajas de horas jugadas\")\n",
    "plt.grid()\n",
    "plt.ylabel('Horas jugadas')\n",
    "plt.subplot(1,2,2)\n",
    "sns.histplot(data = data_reviews.hours[data_reviews.hours<max_hour], bins = 60)\n",
    "plt.title(\"Histograma de horas jugadas por entrada\")\n",
    "plt.xlabel(\"horas jugadas\")\n",
    "plt.ylabel(\"número de entradas\")\n",
    "plt.xlim(0,max_hour)\n",
    "plt.grid()\n",
    "plt.show()"
   ]
  },
  {
   "cell_type": "markdown",
   "metadata": {},
   "source": [
    "> En el gráfico de la izquierda se muestra una digrama de caja con las horas jugadas, la mayoría de datos se concentran en los tres primeros cuartiles (hasta el 75%). Después del tercer cuartil los valores se ven disparados por jugadores más veteranos que acumulan horas de hasta 42,000 horas."
   ]
  },
  {
   "cell_type": "markdown",
   "metadata": {},
   "source": [
    "### Estuadiamos la distribución de la varibale `product_id` del dataset `data_games`"
   ]
  },
  {
   "cell_type": "code",
   "execution_count": 292,
   "metadata": {},
   "outputs": [
    {
     "name": "stdout",
     "output_type": "stream",
     "text": [
      "Existen: 15390 juegos únicos\n"
     ]
    }
   ],
   "source": [
    "print(f'Existen: {data_games.shape[0]} juegos únicos')"
   ]
  },
  {
   "cell_type": "code",
   "execution_count": 345,
   "metadata": {},
   "outputs": [
    {
     "data": {
      "text/html": [
       "<div>\n",
       "<style scoped>\n",
       "    .dataframe tbody tr th:only-of-type {\n",
       "        vertical-align: middle;\n",
       "    }\n",
       "\n",
       "    .dataframe tbody tr th {\n",
       "        vertical-align: top;\n",
       "    }\n",
       "\n",
       "    .dataframe thead th {\n",
       "        text-align: right;\n",
       "    }\n",
       "</style>\n",
       "<table border=\"1\" class=\"dataframe\">\n",
       "  <thead>\n",
       "    <tr style=\"text-align: right;\">\n",
       "      <th></th>\n",
       "      <th>id_game</th>\n",
       "      <th>cantidad_de_jugadores</th>\n",
       "    </tr>\n",
       "  </thead>\n",
       "  <tbody>\n",
       "    <tr>\n",
       "      <th>0</th>\n",
       "      <td>440</td>\n",
       "      <td>121319</td>\n",
       "    </tr>\n",
       "    <tr>\n",
       "      <th>1</th>\n",
       "      <td>252490</td>\n",
       "      <td>68029</td>\n",
       "    </tr>\n",
       "    <tr>\n",
       "      <th>2</th>\n",
       "      <td>49520</td>\n",
       "      <td>50571</td>\n",
       "    </tr>\n",
       "    <tr>\n",
       "      <th>3</th>\n",
       "      <td>377160</td>\n",
       "      <td>48041</td>\n",
       "    </tr>\n",
       "    <tr>\n",
       "      <th>4</th>\n",
       "      <td>301520</td>\n",
       "      <td>45607</td>\n",
       "    </tr>\n",
       "    <tr>\n",
       "      <th>...</th>\n",
       "      <td>...</td>\n",
       "      <td>...</td>\n",
       "    </tr>\n",
       "    <tr>\n",
       "      <th>15375</th>\n",
       "      <td>619380</td>\n",
       "      <td>1</td>\n",
       "    </tr>\n",
       "    <tr>\n",
       "      <th>15376</th>\n",
       "      <td>381152</td>\n",
       "      <td>1</td>\n",
       "    </tr>\n",
       "    <tr>\n",
       "      <th>15377</th>\n",
       "      <td>666080</td>\n",
       "      <td>1</td>\n",
       "    </tr>\n",
       "    <tr>\n",
       "      <th>15378</th>\n",
       "      <td>391190</td>\n",
       "      <td>1</td>\n",
       "    </tr>\n",
       "    <tr>\n",
       "      <th>15379</th>\n",
       "      <td>689030</td>\n",
       "      <td>1</td>\n",
       "    </tr>\n",
       "  </tbody>\n",
       "</table>\n",
       "<p>15380 rows × 2 columns</p>\n",
       "</div>"
      ],
      "text/plain": [
       "       id_game  cantidad_de_jugadores\n",
       "0          440                 121319\n",
       "1       252490                  68029\n",
       "2        49520                  50571\n",
       "3       377160                  48041\n",
       "4       301520                  45607\n",
       "...        ...                    ...\n",
       "15375   619380                      1\n",
       "15376   381152                      1\n",
       "15377   666080                      1\n",
       "15378   391190                      1\n",
       "15379   689030                      1\n",
       "\n",
       "[15380 rows x 2 columns]"
      ]
     },
     "execution_count": 345,
     "metadata": {},
     "output_type": "execute_result"
    }
   ],
   "source": [
    "#Imprimimos un DataFrame de la cantidad de jugadores por ID\n",
    "games_por_usuario= data_reviews.product_id.value_counts().to_frame().reset_index().rename(columns={'index':'id_game', 'product_id':'cantidad_de_jugadores'})\n",
    "games_por_usuario"
   ]
  },
  {
   "cell_type": "code",
   "execution_count": 347,
   "metadata": {},
   "outputs": [
    {
     "name": "stdout",
     "output_type": "stream",
     "text": [
      "Existen: 13002 juegos con al menos 5 jugadores y con 6854158 reviews\n",
      "Existen: 11286 juegos con al menos 10 jugadores y con 6842594 reviews\n",
      "Existen: 10116 juegos con al menos 15 jugadores y con 6828701 reviews\n",
      "Existen: 9241 juegos con al menos 20 jugadores y con 6813961 reviews\n",
      "Existen: 8551 juegos con al menos 25 jugadores y con 6798782 reviews\n",
      "Existen: 7972 juegos con al menos 30 jugadores y con 6783176 reviews\n"
     ]
    }
   ],
   "source": [
    "for i in np.arange(5, 35,step=5):\n",
    "    suma = np.sum(data_reviews.product_id.value_counts().values[games_por_usuario.cantidad_de_jugadores >= i])\n",
    "    print(f'Existen: {games_por_usuario.cantidad_de_jugadores[games_por_usuario.cantidad_de_jugadores>=i].shape[0]} juegos con al menos {i} jugadores y con {suma} reviews')\n"
   ]
  },
  {
   "cell_type": "code",
   "execution_count": 354,
   "metadata": {},
   "outputs": [
    {
     "data": {
      "image/png": "[encoded data removed]",
      "text/plain": [
       "<Figure size 1008x360 with 1 Axes>"
      ]
     },
     "metadata": {
      "needs_background": "light"
     },
     "output_type": "display_data"
    }
   ],
   "source": [
    "plt.figure(figsize=(14,5))\n",
    "sns.histplot(games_por_usuario.cantidad_de_jugadores[games_por_usuario.cantidad_de_jugadores<=1200], bins=60)\n",
    "plt.title('Histograma de cantidad de jugadores por ID de juego')\n",
    "plt.xlabel('Cantidad de jugadores')\n",
    "plt.xlim(0,1200)\n",
    "plt.grid()"
   ]
  },
  {
   "cell_type": "markdown",
   "metadata": {},
   "source": [
    "### Estudiaremos la distribución de `genres` del data_set `data_games`"
   ]
  },
  {
   "cell_type": "code",
   "execution_count": 94,
   "metadata": {},
   "outputs": [],
   "source": [
    "lista_generos=[]\n",
    "array_generos=np.array(data_games.dropna(subset=['genres']).genres)\n",
    "for i in range(0, len(array_generos)):\n",
    "    array_generos[i]=array_generos[i].replace(\" \", \"\")\n",
    "    array_generos[i]=array_generos[i].replace(\"'\", \"\")\n",
    "    array_generos[i]=array_generos[i].replace(\"[\", \"\")\n",
    "    array_generos[i]=array_generos[i].replace(\"]\", \"\")\n",
    "    aux = array_generos[i].split(\",\")\n",
    "    lista_generos.append(aux)\n"
   ]
  },
  {
   "cell_type": "code",
   "execution_count": 96,
   "metadata": {},
   "outputs": [],
   "source": [
    "lista_generos=[item \n",
    "           for sublist in lista_generos\n",
    "           for item in sublist]"
   ]
  },
  {
   "cell_type": "code",
   "execution_count": 99,
   "metadata": {},
   "outputs": [
    {
     "data": {
      "text/plain": [
       "Indie                      9979\n",
       "Action                     6536\n",
       "Adventure                  5279\n",
       "Casual                     4760\n",
       "Strategy                   3215\n",
       "RPG                        2516\n",
       "Simulation                 2372\n",
       "EarlyAccess                1344\n",
       "FreetoPlay                  855\n",
       "Sports                      576\n",
       "Racing                      559\n",
       "MassivelyMultiplayer        431\n",
       "Utilities                   150\n",
       "Design&amp;Illustration     121\n",
       "Animation&amp;Modeling       86\n",
       "VideoProduction              65\n",
       "Education                    63\n",
       "SoftwareTraining             49\n",
       "AudioProduction              46\n",
       "PhotoEditing                 33\n",
       "WebPublishing                30\n",
       "Accounting                    3\n",
       "dtype: int64"
      ]
     },
     "execution_count": 99,
     "metadata": {},
     "output_type": "execute_result"
    }
   ],
   "source": [
    "index_generos = list(np.unique(lista_generos))\n",
    "values_generos = [lista_generos.count(item) for item in index_generos]\n",
    "\n",
    "distribucion_generos = pd.Series(values_generos, index = index_generos) \n",
    "distribucion_generos.sort_values(ascending=False)"
   ]
  },
  {
   "cell_type": "markdown",
   "metadata": {},
   "source": [
    "#### Generación del rating "
   ]
  },
  {
   "cell_type": "markdown",
   "metadata": {},
   "source": [
    "Trabajaremos en el feedback implícito para aprender las preferencias del usuario, específicamente, usando el tiempo de juego como nuestra medida indirecta. Después de un análisis propusimos un límite de 5 horas como suficiente para diferenciar entre preferencia o no. De hecho, esta es una suposición fuerte, ya que lo ideal sería conocer el tiempo de juego habitual de cada juego como una medida más precisa. Pero en aras de la simplicidad, dejamos esta idea para trabajos futuros."
   ]
  },
  {
   "cell_type": "code",
   "execution_count": 34,
   "metadata": {},
   "outputs": [
    {
     "name": "stderr",
     "output_type": "stream",
     "text": [
      "<ipython-input-34-e543fdc44ac5>:2: SettingWithCopyWarning: \n",
      "A value is trying to be set on a copy of a slice from a DataFrame.\n",
      "Try using .loc[row_indexer,col_indexer] = value instead\n",
      "\n",
      "See the caveats in the documentation: https://pandas.pydata.org/pandas-docs/stable/user_guide/indexing.html#returning-a-view-versus-a-copy\n",
      "  data_reviews['Ratings']=1\n"
     ]
    },
    {
     "data": {
      "text/plain": [
       "(2284310, 6)"
      ]
     },
     "execution_count": 34,
     "metadata": {},
     "output_type": "execute_result"
    }
   ],
   "source": [
    "data_reviews= data_reviews[data_reviews.hours>=5]\n",
    "data_reviews['Ratings']=1\n",
    "data_reviews.reset_index(drop=True, inplace=True)\n",
    "data_reviews.shape"
   ]
  },
  {
   "cell_type": "markdown",
   "metadata": {},
   "source": [
    "#### Eliminación de juegos poco populares\n",
    "\n",
    "Para obtener un dataset limpio, primero vamos a eliminar aquellos juegos que cuentan con menos de 25 usuarios, ya que no son los suficientemente populares para desarrollar un sistema de recomendación."
   ]
  },
  {
   "cell_type": "code",
   "execution_count": 124,
   "metadata": {},
   "outputs": [
    {
     "data": {
      "text/plain": [
       "(4740008, 4)"
      ]
     },
     "execution_count": 124,
     "metadata": {},
     "output_type": "execute_result"
    }
   ],
   "source": [
    "lista_juegos = list(data_reviews.product_id.value_counts()[data_reviews.product_id.value_counts()>=25].index)\n",
    "data_reviews = data_reviews[data_reviews.product_id.isin(lista_juegos)]\n",
    "data_reviews = data_reviews.reset_index(drop = True)\n",
    "data_reviews.shape"
   ]
  },
  {
   "cell_type": "markdown",
   "metadata": {},
   "source": [
    "#### Eliminación de jugadores con pocos juegos\n",
    "\n",
    "Ahora vamos a eliminar aquellos usuarios que tienen menos de 5 juegos, ya que no cuentan con juegos suficientes para desarrollar un algoritmo robusto que permita hacer recomendaciones adecuadas."
   ]
  },
  {
   "cell_type": "code",
   "execution_count": 16,
   "metadata": {},
   "outputs": [
    {
     "data": {
      "text/plain": [
       "(3469804, 3)"
      ]
     },
     "execution_count": 16,
     "metadata": {},
     "output_type": "execute_result"
    }
   ],
   "source": [
    "listausuarios = list(data_reviews.username.value_counts().index[data_reviews.username.value_counts().values >= 5])\n",
    "data_reviews = data_reviews[data_reviews.username.isin(listausuarios)]\n",
    "data_reviews = data_reviews.reset_index(drop = True)\n",
    "data_reviews.shape"
   ]
  },
  {
   "cell_type": "markdown",
   "metadata": {},
   "source": [
    "#### generación de un número de identificación para los usuarios"
   ]
  },
  {
   "cell_type": "code",
   "execution_count": 18,
   "metadata": {},
   "outputs": [],
   "source": [
    "usernames = list(np.unique(data_reviews.username))\n",
    "user_encooded = np.arange(0,len(usernames))\n",
    "data_reviews['user_id'] = data_reviews.username.map(dict(zip(usernames,user_encooded)))"
   ]
  },
  {
   "cell_type": "markdown",
   "metadata": {},
   "source": [
    "#### generación de un número de identificación continuo para los juegos"
   ]
  },
  {
   "cell_type": "code",
   "execution_count": 19,
   "metadata": {},
   "outputs": [],
   "source": [
    "games = list(np.unique(data_reviews.product_id))\n",
    "game_encooded = np.arange(0,len(games))\n",
    "data_reviews['game_id'] = data_reviews.product_id.map(dict(zip(games,game_encooded)))\n",
    "data_games = data_games[data_games.id.isin(games)]\n",
    "data_games = data_games.reset_index(drop = True)\n",
    "data_games['game_id'] = data_games.id.map(dict(zip(games,game_encooded)))"
   ]
  },
  {
   "cell_type": "code",
   "execution_count": 29,
   "metadata": {},
   "outputs": [
    {
     "data": {
      "text/html": [
       "<div>\n",
       "<style scoped>\n",
       "    .dataframe tbody tr th:only-of-type {\n",
       "        vertical-align: middle;\n",
       "    }\n",
       "\n",
       "    .dataframe tbody tr th {\n",
       "        vertical-align: top;\n",
       "    }\n",
       "\n",
       "    .dataframe thead th {\n",
       "        text-align: right;\n",
       "    }\n",
       "</style>\n",
       "<table border=\"1\" class=\"dataframe\">\n",
       "  <thead>\n",
       "    <tr style=\"text-align: right;\">\n",
       "      <th></th>\n",
       "      <th>username</th>\n",
       "      <th>hours</th>\n",
       "      <th>product_id</th>\n",
       "      <th>user_id</th>\n",
       "      <th>game_id</th>\n",
       "    </tr>\n",
       "  </thead>\n",
       "  <tbody>\n",
       "    <tr>\n",
       "      <th>0</th>\n",
       "      <td>₮ʜᴇ Wᴀʀᴛᴏɴ</td>\n",
       "      <td>51.1</td>\n",
       "      <td>328100</td>\n",
       "      <td>273604</td>\n",
       "      <td>4238</td>\n",
       "    </tr>\n",
       "    <tr>\n",
       "      <th>1</th>\n",
       "      <td>DarklyThinking</td>\n",
       "      <td>16.6</td>\n",
       "      <td>35140</td>\n",
       "      <td>45988</td>\n",
       "      <td>742</td>\n",
       "    </tr>\n",
       "    <tr>\n",
       "      <th>2</th>\n",
       "      <td>Teef 🐏</td>\n",
       "      <td>0.9</td>\n",
       "      <td>725280</td>\n",
       "      <td>183938</td>\n",
       "      <td>14457</td>\n",
       "    </tr>\n",
       "    <tr>\n",
       "      <th>3</th>\n",
       "      <td>nd</td>\n",
       "      <td>1.0</td>\n",
       "      <td>725280</td>\n",
       "      <td>249563</td>\n",
       "      <td>14457</td>\n",
       "    </tr>\n",
       "    <tr>\n",
       "      <th>4</th>\n",
       "      <td>Sneaky_Panda</td>\n",
       "      <td>0.6</td>\n",
       "      <td>725280</td>\n",
       "      <td>172210</td>\n",
       "      <td>14457</td>\n",
       "    </tr>\n",
       "    <tr>\n",
       "      <th>...</th>\n",
       "      <td>...</td>\n",
       "      <td>...</td>\n",
       "      <td>...</td>\n",
       "      <td>...</td>\n",
       "      <td>...</td>\n",
       "    </tr>\n",
       "    <tr>\n",
       "      <th>3469799</th>\n",
       "      <td>dab</td>\n",
       "      <td>161.8</td>\n",
       "      <td>252490</td>\n",
       "      <td>227460</td>\n",
       "      <td>2208</td>\n",
       "    </tr>\n",
       "    <tr>\n",
       "      <th>3469800</th>\n",
       "      <td>Prime</td>\n",
       "      <td>314.6</td>\n",
       "      <td>252490</td>\n",
       "      <td>145706</td>\n",
       "      <td>2208</td>\n",
       "    </tr>\n",
       "    <tr>\n",
       "      <th>3469801</th>\n",
       "      <td>Zezztah</td>\n",
       "      <td>591.3</td>\n",
       "      <td>252490</td>\n",
       "      <td>212475</td>\n",
       "      <td>2208</td>\n",
       "    </tr>\n",
       "    <tr>\n",
       "      <th>3469802</th>\n",
       "      <td>Kero</td>\n",
       "      <td>198.5</td>\n",
       "      <td>252490</td>\n",
       "      <td>98972</td>\n",
       "      <td>2208</td>\n",
       "    </tr>\n",
       "    <tr>\n",
       "      <th>3469803</th>\n",
       "      <td>Stony</td>\n",
       "      <td>1215.2</td>\n",
       "      <td>252490</td>\n",
       "      <td>177973</td>\n",
       "      <td>2208</td>\n",
       "    </tr>\n",
       "  </tbody>\n",
       "</table>\n",
       "<p>3469804 rows × 5 columns</p>\n",
       "</div>"
      ],
      "text/plain": [
       "               username   hours  product_id  user_id  game_id\n",
       "0            ₮ʜᴇ Wᴀʀᴛᴏɴ    51.1      328100   273604     4238\n",
       "1        DarklyThinking    16.6       35140    45988      742\n",
       "2                Teef 🐏     0.9      725280   183938    14457\n",
       "3                    nd     1.0      725280   249563    14457\n",
       "4          Sneaky_Panda     0.6      725280   172210    14457\n",
       "...                 ...     ...         ...      ...      ...\n",
       "3469799             dab   161.8      252490   227460     2208\n",
       "3469800           Prime   314.6      252490   145706     2208\n",
       "3469801         Zezztah   591.3      252490   212475     2208\n",
       "3469802            Kero   198.5      252490    98972     2208\n",
       "3469803           Stony  1215.2      252490   177973     2208\n",
       "\n",
       "[3469804 rows x 5 columns]"
      ]
     },
     "execution_count": 29,
     "metadata": {},
     "output_type": "execute_result"
    }
   ],
   "source": [
    "data_reviews"
   ]
  },
  {
   "cell_type": "markdown",
   "metadata": {},
   "source": [
    "### Guardamos nuestro data_set"
   ]
  },
  {
   "cell_type": "code",
   "execution_count": 36,
   "metadata": {},
   "outputs": [
    {
     "name": "stdout",
     "output_type": "stream",
     "text": [
      "Wall time: 7.42 s\n"
     ]
    }
   ],
   "source": [
    "%%time\n",
    "#Guardaremos los data sets ya filtrados\n",
    "data_games.to_csv('Data_filtrada\\data_games_filtrada.csv')\n",
    "data_reviews.to_csv('Data_filtrada\\data_reviews_filtrada.csv')\n",
    "Calificaciones_byID.to_csv('Data_filtrada\\Calificaciones_byID.csv')"
   ]
  },
  {
   "cell_type": "code",
   "execution_count": 2,
   "metadata": {},
   "outputs": [
    {
     "name": "stdout",
     "output_type": "stream",
     "text": [
      "Wall time: 2.81 s\n"
     ]
    }
   ],
   "source": [
    "%%time\n",
    "data_games=pd.read_csv('Data_filtrada\\data_games_filtrada.csv').drop(columns='Unnamed: 0', axis=1)\n",
    "data_reviews=pd.read_csv('Data_filtrada\\data_reviews_filtrada.csv').drop(columns='Unnamed: 0', axis=1)\n",
    "Calificaciones_byID=pd.read_csv('Data_filtrada\\Calificaciones_byID.csv').drop(columns='Unnamed: 0', axis=1)"
   ]
  },
  {
   "cell_type": "markdown",
   "metadata": {},
   "source": [
    "# Método: modelos de sistemas de recomendación\n",
    "* ## Alternating Least Squares (ALS) (Mínimos cuadrados alternantes (ALS))\n",
    "\n",
    "Bajo la diversidad de modelos de factorización matricial, el modelo ALS se destaca por ser capaz de funcionar utilizando retroalimentación implícita. Este es un modelo de factores latentes, al igual que SVD. [Artículo: Collaborative Filtering for Implicit Feedback Datasets](http://yifanhu.net/PUB/cf.pdf)\n",
    "\n",
    "También utilizaremos la librería [Implicit](https://implicit.readthedocs.io/en/latest/), que se especializa en el manejo de Datasets de feedback implicito.\n",
    "\n",
    "* ## Preliminares y formulación del modelo:\n",
    "Nos reservamos letras de indexación especiales para distinguir a los usuarios de los elementos: para los usuarios: $u$, $v$, y para los elementos: $i$, $j$. Los datos de entrada asocian usuarios y elementos a través de valores $r_{ui}$, que de ahora en adelante llamaremos **observaciones**.\n",
    "\n",
    "Primero, necesitamos formalizar la noción de confianza que miden las variables $r_{ui}$. Para ello, introduzcamos un conjunto de variables binarias $p_{ui}$, que indican la preferencia del usuario $u$ por el ítem $i$. Los valores de $p_{ui}$ se derivan binarizando los valores de $r_{ui}$:\n",
    "$$p_{ui}=\\begin{cases} 1& \\ r_{ui} \t\\geq 5\\\\ 0& \\ r_{ui} < 5 \\end{cases}$$\n",
    "\n",
    "\n",
    "En otras palabras, si un usuario $u$ jugó un juego $i$ al menos unas cinco horas  ($r_{ui}>= 5$), entonces tenemos una indicación de que a $u$ le gusta el juego $i$ ($p_{ui}$ = 1). Por otro lado, si $u$  jugó menos de ese tiempo el  juego $i$, no creemos que haya ninguna preferencia ($p_{ui}$ = 0). $p_{ui}$ se calcula desarrollando el producto vectorial de la siguiente manera: $$p_{ui} = x_{u}^{T}y_{i}$$\n",
    "\n",
    "En general, a medida de que crece $r_{ui}$ tenemos una indicación más fuerte de qué le gusta al usuario $u$. Ahora, se introduce una conjunto de variables $C_{ui}$ que mide la confianza observada de $P_{ui}$: $$C_{ui} = \\alpha p_{ui}$$\n",
    "\n",
    "> De esta manera, se mide la confianza en $P_{ui}$ para cada par de user-ítem, pero a medida que se observa más evidencia de preferecnia positiva nuestra confianza en $P_{ui}$ aumenta en consecuencia. La tasa de aumento está controlada por $\\alpha$, siendo este un hiperparámetro. Donde $\\alpha$ es un factor de escala lineal que otorga más importancia a los elementos relevantes, por encima de los que nunca se han jugado. Bajo estas definiciones, la búsqueda de factor latente para usuarios y juegos se realiza mediante la optimización de la siguiente función de costo:\n",
    "\n",
    "\n",
    ">> $${min}_{x,y} \\sum_{u,i} c_{ui}(p_{ui} - x_{u}^{T}y_{i})^{2} + \\lambda \\bigg(\\sum_{u} \\|x_{u}\\|^{2} + \\sum_{i} \\|y_{i}\\|^{2}\\bigg)$$\n",
    "\n",
    "> $\\lambda$ es necesario para regularizar el modelo de tal manera que no se sobreajuste. La minimización de esta función se desarrolla con el método de gradiente conjugado.[1]\n",
    "\n",
    ">[ [1]  Applications of the Conjugate Gradient Method for Implicit\n",
    "Feedback Collaborative Filtering\n",
    "](http://citeseerx.ist.psu.edu/viewdoc/download?doi=10.1.1.379.6473&rep=rep1&type=pdf)"
   ]
  },
  {
   "attachments": {
    "ce1ce463-6bd5-4971-9e17-7f97928ea071.png": {
     "image/png": "[encoded data removed]"
    }
   },
   "cell_type": "markdown",
   "metadata": {
    "jupyter": {
     "source_hidden": true
    }
   },
   "source": [
    "* ## Elección de la métrica de evaluación\n",
    "\n",
    "Usaremos MAP cómo métrica de evaluación. Nos basamos en el siguiente [artículo](https://medium.com/swlh/rank-aware-recsys-evaluation-metrics-5191bba16832)\n",
    "> * MAP : Precisión media media\n",
    "\n",
    "\n",
    "> Digamos que tenemos un conjunto de datos de relevancia binaria (que es nuestro caso). Queremos evaluar la lista completa de elementos recomendados hasta un límite N específico. Esta métrica le da más peso a los errores en la lista de recomendaciones. El objetivo es eliminar el error en los primeros elementos en lugar de mucho más tarde en la lista. Para ello, necesitamos una métrica que pondera los errores en consecuencia. El objetivo es ponderar mucho los errores en la parte superior de la lista. Luego, disminuya gradualmente la importancia de los errores a medida que bajamos los elementos inferiores de una lista.\n",
    "\n",
    "> La métrica de predicción promedio (AP) intenta aproximarse a esta escala móvil de ponderación. Utiliza una combinación de la precisión en las sublistas sucesivas, combinada con el cambio de recuerdo en estas sublistas. El cálculo es el siguiente:\n",
    "\n",
    "> ![image.png](attachment:ce1ce463-6bd5-4971-9e17-7f97928ea071.png)\n",
    "\n"
   ]
  },
  {
   "attachments": {
    "a43aae32-9aab-4619-be5e-7c161b47bac8.png": {
     "image/png": "[encoded data removed]"
    }
   },
   "cell_type": "markdown",
   "metadata": {
    "jupyter": {
     "source_hidden": true
    }
   },
   "source": [
    "> ![image.png](attachment:a43aae32-9aab-4619-be5e-7c161b47bac8.png)\n",
    "\n",
    ">> En la figura anterior, vemos que la métrica de Precisión promedio está en la lista de recomendación única, es decir, a nivel de usuario. Calcular la precisión a través de este elemento significa subdividir la lista de recomendaciones. Examinamos una nueva sublista cada vez que obtenemos un elemento relevante. Luego calculamos la precisión en esta sublista actual. Hacemos esto para cada sublista hasta que llegamos al final de nuestras recomendaciones. Ahora que tenemos un conjunto de precisiones, las promediamos para obtener la precisión promedio para un solo usuario. Luego obtenemos el AP para todos los usuarios y obtenemos la precisión promedio promedio.\n",
    "\n",
    ">> Es importante definir la precisión:\n",
    "\n",
    "$$ P = \\frac{\\text{número de items relevantes en la lista}}{\\text{número de items en la lista}}$$\n",
    "\n",
    ">> Y, la relevancia se define como la siguiente función por tramos\n",
    "\n",
    "$$relevancia = \\begin{cases} 1& \\ \\text{si el item es relevante (en nuestro caso si jugó o no)} \\\\ 0& \\ \\text{si el item no es relevante (que no lo jugó)} \\end{cases}$$\n",
    "\n",
    ">> Con estas dos se define para cada usuario la precisión media a $K$ items como la sumatoria de las precisiones de los elementos relevantes en $K$ sobre el número total de elementos relevantes en $K$\n",
    "\n",
    "$$ AveP@K = \\displaystyle \\frac{\\sum_{k=1}^{K} P(k) \\times relevancia(k)}{\\text{número de items relevantes}} $$\n",
    "\n",
    ">> Finalmente para obtener un valor para el conjunto completo de usuarios se define la presición media promedio a $K$ items como el promedio de las precisiones medias a $K$ items para cada usuario $u$\n",
    "\n",
    "$$ MAP@K = \\displaystyle \\frac{\\sum_{u=1}^{U} AveP(u)}{N} $$"
   ]
  },
  {
   "cell_type": "markdown",
   "metadata": {},
   "source": [
    "A partir del dataset Reviews generamos una matriz de utilidad, que tomará los valores de calificación de un usuario por un juego (1 o 0) y los albergará en una matriz con dimensiones (# juegos, # usuarios). Esta matriz está en formato CSR (compressed sparse row matrix). A partir de ella se genera otra matriz con dimensiones (# usuarios, # juegos) que es la transpuesta de la primera matriz.\n",
    "\n",
    "La primera matriz será usada para entrenar el modelo y la segunda matriz será usada para generar las recomendaciones a partir del modelo entrenado."
   ]
  },
  {
   "cell_type": "markdown",
   "metadata": {},
   "source": [
    "#### Para desarrollar el modelo de mínimos cuadraddos alternantes se necesitará desarrollar una matriz de utilidad, esta misma contendrá los valores de las califiaciones de los jugadores $u$ por un juego $i$, siendo en este caso un 0 o 1. La matriz de utilidad tendrá la dimensión $M_{juegos x jugadores}$."
   ]
  },
  {
   "cell_type": "code",
   "execution_count": 3,
   "metadata": {},
   "outputs": [],
   "source": [
    "import os\n",
    "from scipy import sparse\n",
    "from implicit.als import AlternatingLeastSquares\n",
    "from implicit.evaluation import train_test_split, ranking_metrics_at_k\n",
    "os.environ['MKL_NUM_THREADS'] = '1' #Por recomendación WARNING:root:Intel MKL BLAS detected. Its highly recommend to set the environment variable 'export MKL_NUM_THREADS=1' to disable its internal multithreading"
   ]
  },
  {
   "cell_type": "code",
   "execution_count": 4,
   "metadata": {},
   "outputs": [],
   "source": [
    "data = data_reviews[['game_id','user_id','Ratings']]"
   ]
  },
  {
   "cell_type": "code",
   "execution_count": 5,
   "metadata": {},
   "outputs": [
    {
     "data": {
      "text/plain": [
       "(14963, 280212)"
      ]
     },
     "execution_count": 5,
     "metadata": {},
     "output_type": "execute_result"
    }
   ],
   "source": [
    "matrix_item_user = sparse.csr_matrix((data['Ratings'].astype(int), (data['game_id'], data['user_id'])))\n",
    "matrix_user_item = matrix_item_user.transpose()\n",
    "matrix_item_user.shape"
   ]
  },
  {
   "cell_type": "markdown",
   "metadata": {},
   "source": [
    "Iniciaremos $\\alpha=40$, más adelante buscaremos un mejor valor"
   ]
  },
  {
   "cell_type": "code",
   "execution_count": 6,
   "metadata": {},
   "outputs": [],
   "source": [
    "alpha = 40\n",
    "\n",
    "#Realizamos nuestro train_test_split con un 70% valor de entrenamiendo\n",
    "train, test = train_test_split(matrix_item_user * alpha, train_percentage=0.7)\n",
    "model = AlternatingLeastSquares(factors=20, regularization=0.1, iterations=15, random_state=42)"
   ]
  },
  {
   "cell_type": "code",
   "execution_count": 7,
   "metadata": {},
   "outputs": [
    {
     "data": {
      "application/vnd.jupyter.widget-view+json": {
       "model_id": "806ac11bf9b349eb8d452b45b15d6113",
       "version_major": 2,
       "version_minor": 0
      },
      "text/plain": [
       "HBox(children=(HTML(value=''), FloatProgress(value=0.0, max=15.0), HTML(value='')))"
      ]
     },
     "metadata": {},
     "output_type": "display_data"
    },
    {
     "name": "stdout",
     "output_type": "stream",
     "text": [
      "\n",
      "Wall time: 11.6 s\n"
     ]
    }
   ],
   "source": [
    "%%time\n",
    "model.fit(train, show_progress=True)"
   ]
  },
  {
   "cell_type": "code",
   "execution_count": 8,
   "metadata": {},
   "outputs": [
    {
     "data": {
      "application/vnd.jupyter.widget-view+json": {
       "model_id": "1d3951ee08ad45e780fb44bd46b40dc4",
       "version_major": 2,
       "version_minor": 0
      },
      "text/plain": [
       "HBox(children=(HTML(value=''), FloatProgress(value=0.0, max=280212.0), HTML(value='')))"
      ]
     },
     "metadata": {},
     "output_type": "display_data"
    },
    {
     "name": "stdout",
     "output_type": "stream",
     "text": [
      "\n",
      "el modelo tiene un valor de MAP@k igual a : 0.046\n",
      "Wall time: 1min 16s\n"
     ]
    }
   ],
   "source": [
    "%%time\n",
    "p_K = ranking_metrics_at_k(model, train.T, test.T, K=20, show_progress=True)\n",
    "print('el modelo tiene un valor de MAP@k igual a : %0.3f' % (p_K['map']))"
   ]
  },
  {
   "cell_type": "markdown",
   "metadata": {},
   "source": [
    "### Benchmark"
   ]
  },
  {
   "cell_type": "code",
   "execution_count": 9,
   "metadata": {},
   "outputs": [],
   "source": [
    "rank = data.game_id.value_counts().index\n",
    "#Rank muestra todos los juegos y su cantidad de valoraciones que tuvo\n",
    "\n",
    "score = np.linspace(1.9,-20,len(rank))\n",
    "recomendations = list(tuple(zip(rank, score)))"
   ]
  },
  {
   "cell_type": "code",
   "execution_count": 19,
   "metadata": {},
   "outputs": [],
   "source": [
    "class Benchmark_popularidad:\n",
    "    \n",
    "    def __init__(self, recomendations):\n",
    "        self.recomendations = recomendations\n",
    "        \n",
    "    def recommend(self, userid, user_item, N):\n",
    "        recomendations = self.recomendations[:N]\n",
    "        return recomendations"
   ]
  },
  {
   "cell_type": "code",
   "execution_count": 20,
   "metadata": {},
   "outputs": [],
   "source": [
    "Benchmark = Benchmark_popularidad(recomendations)"
   ]
  },
  {
   "cell_type": "code",
   "execution_count": 24,
   "metadata": {},
   "outputs": [
    {
     "data": {
      "application/vnd.jupyter.widget-view+json": {
       "model_id": "554f2e6245534d07932da723541a5a57",
       "version_major": 2,
       "version_minor": 0
      },
      "text/plain": [
       "HBox(children=(HTML(value=''), FloatProgress(value=0.0, max=280212.0), HTML(value='')))"
      ]
     },
     "metadata": {},
     "output_type": "display_data"
    },
    {
     "name": "stdout",
     "output_type": "stream",
     "text": [
      "\n",
      "El modelo de Benchmark tiene un valor de MAP@K : 0.037\n",
      "Wall time: 808 ms\n"
     ]
    }
   ],
   "source": [
    "%%time\n",
    "p_K_benchmark = ranking_metrics_at_k(Benchmark, train.T.tocsr(), test.T.tocsr(), K=20, show_progress=True)\n",
    "# print('el modelo benchmark tiene un valor de MAP@k igual a : %0.3f' % (p_K_benchmark['map']))\n",
    "print(f\"El modelo de Benchmark tiene un valor de MAP@K : {round((p_K_benchmark['map']),3)}\")"
   ]
  },
  {
   "cell_type": "markdown",
   "metadata": {},
   "source": [
    "### Optimización de hiperpametros"
   ]
  },
  {
   "cell_type": "code",
   "execution_count": 25,
   "metadata": {},
   "outputs": [
    {
     "name": "stdout",
     "output_type": "stream",
     "text": [
      "Wall time: 26min 35s\n"
     ]
    }
   ],
   "source": [
    "%%time\n",
    "alphas = [x for x in range(10,61,2)]\n",
    "metrics_alphas = []\n",
    "\n",
    "for alpha in alphas:\n",
    "    train, test = train_test_split(matrix_item_user * alpha, train_percentage=0.8)\n",
    "    model = AlternatingLeastSquares(factors=20, regularization=0.1, iterations=15, random_state=42)\n",
    "    model.fit(train, show_progress=False)\n",
    "    r = ranking_metrics_at_k(model, train.T, test.T, K=20, num_threads=0, show_progress=False)\n",
    "    metrics_alphas.append(r)"
   ]
  },
  {
   "cell_type": "code",
   "execution_count": 26,
   "metadata": {},
   "outputs": [
    {
     "name": "stdout",
     "output_type": "stream",
     "text": [
      "Wall time: 26min 20s\n"
     ]
    }
   ],
   "source": [
    "%%time\n",
    "factors = [x for x in range(10,61,2)]\n",
    "metrics_factors = []\n",
    "\n",
    "for factor in factors:\n",
    "    alpha = 40\n",
    "    train, test = train_test_split(matrix_item_user * alpha, train_percentage=0.8)\n",
    "    model = AlternatingLeastSquares(factors=factor, regularization=0.1, iterations=15, random_state=42)\n",
    "    model.fit(train, show_progress=False)\n",
    "    r = ranking_metrics_at_k(model, train.T, test.T, K=20, num_threads=0, show_progress=False)\n",
    "    metrics_factors.append(r)"
   ]
  },
  {
   "cell_type": "code",
   "execution_count": 27,
   "metadata": {},
   "outputs": [
    {
     "name": "stdout",
     "output_type": "stream",
     "text": [
      "Wall time: 24min 1s\n"
     ]
    }
   ],
   "source": [
    "%%time\n",
    "regs = [x for x in range(20,71,2)]\n",
    "metrics_regs = []\n",
    "\n",
    "for reg in regs:\n",
    "    alpha = 40\n",
    "    train, test = train_test_split(matrix_item_user * alpha, train_percentage=0.8)\n",
    "    model = AlternatingLeastSquares(factors=20, regularization=reg, iterations=15, random_state=42)\n",
    "    model.fit(train, show_progress=False)\n",
    "    r = ranking_metrics_at_k(model, train.T, test.T, K=20, num_threads=0, show_progress=False)\n",
    "    metrics_regs.append(r)"
   ]
  },
  {
   "cell_type": "code",
   "execution_count": 28,
   "metadata": {},
   "outputs": [
    {
     "name": "stdout",
     "output_type": "stream",
     "text": [
      "Wall time: 27min 49s\n"
     ]
    }
   ],
   "source": [
    "%%time\n",
    "iterations = [x for x in range(15,101,5)]\n",
    "metrics_iterations = []\n",
    "\n",
    "for iteration in iterations:\n",
    "    alpha = 40\n",
    "    train, test = train_test_split(matrix_item_user * alpha, train_percentage=0.8)\n",
    "    model = AlternatingLeastSquares(factors=20, regularization=0.1, iterations=iteration, random_state=42)\n",
    "    model.fit(train, show_progress=False)\n",
    "    r = ranking_metrics_at_k(model, train.T, test.T, K=20, num_threads=0, show_progress=False)\n",
    "    metrics_iterations.append(r)"
   ]
  },
  {
   "cell_type": "code",
   "execution_count": 29,
   "metadata": {},
   "outputs": [
    {
     "name": "stdout",
     "output_type": "stream",
     "text": [
      "Wall time: 0 ns\n"
     ]
    }
   ],
   "source": [
    "%%time\n",
    "map_alpha = []\n",
    "map_factor = []\n",
    "map_reg = []\n",
    "map_iteration = []\n",
    "\n",
    "for i in range(len(metrics_alphas)):\n",
    "    map_alpha.append(metrics_alphas[i]['map'])\n",
    "    \n",
    "for i in range(len(metrics_factors)):\n",
    "    map_factor.append(metrics_factors[i]['map'])\n",
    "    \n",
    "for i in range(len(metrics_regs)):\n",
    "    map_reg.append(metrics_regs[i]['map'])\n",
    "    \n",
    "for i in range(len(metrics_iterations)):\n",
    "    map_iteration.append(metrics_iterations[i]['map'])"
   ]
  },
  {
   "cell_type": "code",
   "execution_count": 167,
   "metadata": {},
   "outputs": [
    {
     "data": {
      "image/png": "[encoded data removed]",
      "text/plain": [
       "<Figure size 1008x576 with 4 Axes>"
      ]
     },
     "metadata": {
      "needs_background": "light"
     },
     "output_type": "display_data"
    }
   ],
   "source": [
    "plt.figure(figsize=(14,8))\n",
    "plt.suptitle('Relación entre la métrica MAP@k y los hiperparámetros del modelo')\n",
    "plt.subplot(2,2,1)\n",
    "plt.title('MAP@k con respecto al parámetro alpha')\n",
    "plt.plot(alphas, map_alpha, 's-c')\n",
    "plt.xlabel('parámetro alpha')\n",
    "plt.ylabel('MAP@k')\n",
    "# plt.xlim(10,60)\n",
    "plt.grid()\n",
    "plt.subplot(2,2,2)\n",
    "plt.title('MAP@k con respecto al factor latente')\n",
    "plt.plot(factors, map_factor, 's-y')\n",
    "plt.xlabel('factor latente')\n",
    "plt.ylabel('MAP@k')\n",
    "# plt.xlim(10,40)\n",
    "plt.grid()\n",
    "plt.subplot(2,2,3)\n",
    "plt.title('MAP@k con respecto a la tasa de regularización')\n",
    "plt.plot(regs, map_reg, 's-g')\n",
    "plt.xlabel('tasa de regularización')\n",
    "plt.ylabel('MAP@k')\n",
    "# plt.xlim(20,70)\n",
    "plt.grid()\n",
    "plt.subplot(2,2,4)\n",
    "plt.title('MAP@k con respecto al número de iteraciones')\n",
    "plt.plot(iterations, map_iteration, 's-m')\n",
    "plt.xlabel('número de iteraciones')\n",
    "plt.ylabel('MAP@k')\n",
    "# plt.xlim(15,100)\n",
    "plt.grid()\n",
    "plt.tight_layout()\n",
    "plt.show()"
   ]
  },
  {
   "cell_type": "markdown",
   "metadata": {},
   "source": [
    "> Vemos que la métrica aumenta conforme al número de iteraciones hasta que llega aproximadamente a 55 iteraciones y luego se mantiene constante, por ello tomaremos este valor. Los otros tres hiperparámetros presentan un valor máximo que determinaremos por validación cruzada en un conjunto de valores mucho mas cerrado que los rangos evaluados incialmente."
   ]
  },
  {
   "cell_type": "code",
   "execution_count": 178,
   "metadata": {},
   "outputs": [
    {
     "data": {
      "text/plain": [
       "[50, 52, 54, 56]"
      ]
     },
     "execution_count": 178,
     "metadata": {},
     "output_type": "execute_result"
    }
   ],
   "source": [
    "[x for x in range(50,57,2)]\n",
    "    "
   ]
  },
  {
   "cell_type": "code",
   "execution_count": 183,
   "metadata": {},
   "outputs": [
    {
     "name": "stdout",
     "output_type": "stream",
     "text": [
      "Wall time: 1h 2min 53s\n"
     ]
    }
   ],
   "source": [
    "%%time\n",
    "alphas2 = [x for x in range(30,31,2)]\n",
    "factors2 = [x for x in range(70,95,5)]\n",
    "regs2 = [x for x in range(50,57,2)]\n",
    "\n",
    "metrics_grid = []\n",
    "alphas_grid = []\n",
    "factors_grid = []\n",
    "regs_grid = []\n",
    "\n",
    "for alpha in alphas2:\n",
    "    for factor in factors2:\n",
    "        for reg in regs2:\n",
    "            train, test = train_test_split(matrix_item_user * alpha, train_percentage=0.8)\n",
    "            model = AlternatingLeastSquares(factors=factor, regularization=reg, iterations=90, random_state=42)\n",
    "            model.fit(train, show_progress=False)\n",
    "            r = ranking_metrics_at_k(model, train.T, test.T, K=20, num_threads=0, show_progress=False)\n",
    "            metrics_grid.append(r)\n",
    "            alphas_grid.append(alpha)\n",
    "            factors_grid.append(factor)\n",
    "            regs_grid.append(reg)"
   ]
  },
  {
   "cell_type": "code",
   "execution_count": 187,
   "metadata": {},
   "outputs": [],
   "source": [
    "map_grid = []\n",
    "\n",
    "for i in range(len(metrics_grid)):\n",
    "    map_grid.append(metrics_grid[i]['map'])"
   ]
  },
  {
   "cell_type": "code",
   "execution_count": 188,
   "metadata": {},
   "outputs": [],
   "source": [
    "dict_metrics = {'alpha': alphas_grid, 'factor': factors_grid, 'regularization': regs_grid, 'MAP_k': map_grid}\n",
    "Frame_metrics = pd.DataFrame(data=dict_metrics)"
   ]
  },
  {
   "cell_type": "code",
   "execution_count": 34,
   "metadata": {},
   "outputs": [
    {
     "data": {
      "text/html": [
       "<div>\n",
       "<style scoped>\n",
       "    .dataframe tbody tr th:only-of-type {\n",
       "        vertical-align: middle;\n",
       "    }\n",
       "\n",
       "    .dataframe tbody tr th {\n",
       "        vertical-align: top;\n",
       "    }\n",
       "\n",
       "    .dataframe thead th {\n",
       "        text-align: right;\n",
       "    }\n",
       "</style>\n",
       "<table border=\"1\" class=\"dataframe\">\n",
       "  <thead>\n",
       "    <tr style=\"text-align: right;\">\n",
       "      <th></th>\n",
       "      <th>alpha</th>\n",
       "      <th>factor</th>\n",
       "      <th>regularization</th>\n",
       "      <th>MAP_k</th>\n",
       "    </tr>\n",
       "  </thead>\n",
       "  <tbody>\n",
       "    <tr>\n",
       "      <th>364</th>\n",
       "      <td>30</td>\n",
       "      <td>50</td>\n",
       "      <td>55</td>\n",
       "      <td>0.054701</td>\n",
       "    </tr>\n",
       "  </tbody>\n",
       "</table>\n",
       "</div>"
      ],
      "text/plain": [
       "     alpha  factor  regularization     MAP_k\n",
       "364     30      50              55  0.054701"
      ]
     },
     "execution_count": 34,
     "metadata": {},
     "output_type": "execute_result"
    }
   ],
   "source": [
    "Frame_metrics[Frame_metrics.MAP_k == Frame_metrics.MAP_k.max()]"
   ]
  },
  {
   "cell_type": "code",
   "execution_count": 189,
   "metadata": {},
   "outputs": [
    {
     "data": {
      "text/html": [
       "<div>\n",
       "<style scoped>\n",
       "    .dataframe tbody tr th:only-of-type {\n",
       "        vertical-align: middle;\n",
       "    }\n",
       "\n",
       "    .dataframe tbody tr th {\n",
       "        vertical-align: top;\n",
       "    }\n",
       "\n",
       "    .dataframe thead th {\n",
       "        text-align: right;\n",
       "    }\n",
       "</style>\n",
       "<table border=\"1\" class=\"dataframe\">\n",
       "  <thead>\n",
       "    <tr style=\"text-align: right;\">\n",
       "      <th></th>\n",
       "      <th>alpha</th>\n",
       "      <th>factor</th>\n",
       "      <th>regularization</th>\n",
       "      <th>MAP_k</th>\n",
       "    </tr>\n",
       "  </thead>\n",
       "  <tbody>\n",
       "    <tr>\n",
       "      <th>1</th>\n",
       "      <td>30</td>\n",
       "      <td>70</td>\n",
       "      <td>52</td>\n",
       "      <td>0.054788</td>\n",
       "    </tr>\n",
       "  </tbody>\n",
       "</table>\n",
       "</div>"
      ],
      "text/plain": [
       "   alpha  factor  regularization     MAP_k\n",
       "1     30      70              52  0.054788"
      ]
     },
     "execution_count": 189,
     "metadata": {},
     "output_type": "execute_result"
    }
   ],
   "source": [
    "Frame_metrics[Frame_metrics.MAP_k == Frame_metrics.MAP_k.max()]"
   ]
  },
  {
   "cell_type": "markdown",
   "metadata": {},
   "source": [
    "Arriba vemos los hiperparámetros obtenidos, para el desempeño de la métrica de evaluación. A continuación instanciaremos el modelo nuevamente con estas hiperparámetros y desarrollaremos las predicciones"
   ]
  },
  {
   "cell_type": "markdown",
   "metadata": {},
   "source": [
    "#### Evaluación del modelo y presentación de resultados"
   ]
  },
  {
   "cell_type": "code",
   "execution_count": 35,
   "metadata": {},
   "outputs": [
    {
     "data": {
      "application/vnd.jupyter.widget-view+json": {
       "model_id": "d8d51a4499b24547b2976a4589263613",
       "version_major": 2,
       "version_minor": 0
      },
      "text/plain": [
       "HBox(children=(HTML(value=''), FloatProgress(value=0.0, max=55.0), HTML(value='')))"
      ]
     },
     "metadata": {},
     "output_type": "display_data"
    },
    {
     "name": "stdout",
     "output_type": "stream",
     "text": [
      "\n"
     ]
    }
   ],
   "source": [
    "alpha = 30\n",
    "train, test = train_test_split(matrix_item_user * alpha, train_percentage=0.8)\n",
    "model = AlternatingLeastSquares(factors=50, regularization=55, iterations=55, random_state=42)\n",
    "model.fit(train, show_progress=True)"
   ]
  },
  {
   "cell_type": "code",
   "execution_count": 36,
   "metadata": {},
   "outputs": [
    {
     "data": {
      "application/vnd.jupyter.widget-view+json": {
       "model_id": "793f7eaa84f44e678e176c9d41183dde",
       "version_major": 2,
       "version_minor": 0
      },
      "text/plain": [
       "HBox(children=(HTML(value=''), FloatProgress(value=0.0, max=280212.0), HTML(value='')))"
      ]
     },
     "metadata": {},
     "output_type": "display_data"
    },
    {
     "name": "stdout",
     "output_type": "stream",
     "text": [
      "\n",
      "el modelo tiene un valor de MAP@k igual a : 0.054\n"
     ]
    }
   ],
   "source": [
    "p_K = ranking_metrics_at_k(model, train.T, test.T, K=20, show_progress=True)\n",
    "print('el modelo tiene un valor de MAP@k igual a : %0.3f' % (p_K['map']))"
   ]
  },
  {
   "cell_type": "code",
   "execution_count": 37,
   "metadata": {},
   "outputs": [],
   "source": [
    "#Evaluemos como varia la métrica MAP@k respecto al valor de K, tanto para el modelo optimizado como para el caso Benchmark\n",
    "%%time\n",
    "Ks = [5,10,20,30,50,80,100,150,200,250,300,350,400,450,500]\n",
    "\n",
    "metrics_model = []\n",
    "metrics_Benchmark = []\n",
    "\n",
    "for K in Ks:\n",
    "    r_model = ranking_metrics_at_k(model, train.T, test.T, K=K, show_progress=False)\n",
    "    r_benchmark = ranking_metrics_at_k(Benchmark, train.T, test.T, K=K, show_progress=False)\n",
    "    metrics_model.append(r_model)\n",
    "    metrics_Benchmark.append(r_benchmark)   "
   ]
  },
  {
   "cell_type": "code",
   "execution_count": 38,
   "metadata": {},
   "outputs": [],
   "source": [
    "precision_model = []\n",
    "precision_benchmark = []\n",
    "\n",
    "for i in range(len(metrics_model)):\n",
    "    precision_model.append(metrics_model[i]['map'])\n",
    "    precision_benchmark.append(metrics_Benchmark[i]['map'])"
   ]
  },
  {
   "cell_type": "code",
   "execution_count": 160,
   "metadata": {},
   "outputs": [
    {
     "data": {
      "image/png": "[encoded data removed]",
      "text/plain": [
       "<Figure size 864x288 with 1 Axes>"
      ]
     },
     "metadata": {
      "needs_background": "light"
     },
     "output_type": "display_data"
    }
   ],
   "source": [
    "plt.figure(figsize=(12,4))\n",
    "plt.title('MAP@k con respecto a K')\n",
    "plt.plot(Ks, precision_model, '^--b', label='modelo')\n",
    "plt.plot(Ks, precision_benchmark, '^--r', label='benchmark')\n",
    "plt.xlabel('K')\n",
    "plt.ylabel('MAP@k')\n",
    "plt.legend(loc=0)\n",
    "plt.xlim(5,500)\n",
    "plt.grid()\n",
    "plt.show()"
   ]
  },
  {
   "cell_type": "markdown",
   "metadata": {},
   "source": [
    "Vemos que los resultados del modelo son consistentemente mejores que la linea base\n",
    "\n",
    "Ahora realizaremos las predicciones para un usuario aleatorio"
   ]
  },
  {
   "cell_type": "code",
   "execution_count": 144,
   "metadata": {},
   "outputs": [],
   "source": [
    "n_random = int(np.random.randint(0,data_reviews.shape[0],1))\n",
    "user = data_reviews.user_id.loc[n_random]"
   ]
  },
  {
   "cell_type": "code",
   "execution_count": 145,
   "metadata": {},
   "outputs": [],
   "source": [
    "\n",
    "usuario = np.unique(data_reviews.username[data_reviews.user_id == user])[0]\n",
    "juegos_usuario_codigo = data_reviews.game_id[data_reviews.user_id == user]\n",
    "juegos_usuario = list(juegos_usuario_codigo.map(dict(zip(data_games.game_id,data_games.app_name))).values)"
   ]
  },
  {
   "cell_type": "code",
   "execution_count": 146,
   "metadata": {},
   "outputs": [],
   "source": [
    "recommended = model.recommend(userid = user, user_items = matrix_user_item, N=20, filter_items = list(juegos_usuario_codigo))"
   ]
  },
  {
   "cell_type": "code",
   "execution_count": 147,
   "metadata": {},
   "outputs": [],
   "source": [
    "games = []\n",
    "preds = []\n",
    "for i in range(0,len(recommended)):\n",
    "    game = recommended[i][0]\n",
    "    pred = recommended[i][1]\n",
    "    games.append(game)\n",
    "    preds.append(pred)\n",
    "    \n",
    "recom = pd.Series(preds, index = games)\n",
    "recom.index = recom.index.map(dict(zip(data_games.game_id,data_games.app_name)))"
   ]
  },
  {
   "cell_type": "code",
   "execution_count": 148,
   "metadata": {},
   "outputs": [
    {
     "name": "stdout",
     "output_type": "stream",
     "text": [
      "Usuario :  CptCobbler\n",
      "Juegos del Usuario :  ['Zombie Shooter', 'Automation - The Car Company Tycoon Game', 'BeamNG.drive', 'FlatOut 2™', 'Banished', 'FlatOut', 'Turmoil', 'Basement', 'Software Inc.']\n"
     ]
    }
   ],
   "source": [
    "print('Usuario : ', usuario)\n",
    "print('Juegos del Usuario : ', juegos_usuario)"
   ]
  },
  {
   "cell_type": "code",
   "execution_count": 149,
   "metadata": {},
   "outputs": [
    {
     "name": "stdout",
     "output_type": "stream",
     "text": [
      "Recomendaciones por similitud: \n",
      "\n",
      "Prison Architect                               1.053739\n",
      "American Truck Simulator                       0.745966\n",
      "Factorio                                       0.726104\n",
      "Cities: Skylines                               0.715115\n",
      "SPINTIRES™                                     0.714434\n",
      "Euro Truck Simulator 2                         0.680936\n",
      "Farming Simulator 15                           0.640760\n",
      "Kerbal Space Program                           0.628063\n",
      "Train Simulator                                0.627468\n",
      "Game Dev Tycoon                                0.577306\n",
      "Farming Simulator 17                           0.541380\n",
      "Youtubers Life                                 0.506733\n",
      "Stranded Deep                                  0.498153\n",
      "Mini Metro                                     0.494076\n",
      "Planetbase                                     0.483155\n",
      "Microsoft Flight Simulator X: Steam Edition    0.474479\n",
      "Tropico 5                                      0.460258\n",
      "Plague Inc: Evolved                            0.452647\n",
      "Scrap Mechanic                                 0.450622\n",
      "Slime Rancher                                  0.442000\n",
      "dtype: float64\n"
     ]
    }
   ],
   "source": [
    "print('Recomendaciones por similitud: \\n')\n",
    "print(recom)"
   ]
  },
  {
   "cell_type": "markdown",
   "metadata": {},
   "source": [
    "Explicación del principal juego recomendado"
   ]
  },
  {
   "cell_type": "code",
   "execution_count": 150,
   "metadata": {},
   "outputs": [],
   "source": [
    "idx_recom = 0\n",
    "top_recomendado = data_games.game_id[data_games.app_name == recom.index[idx_recom]].values[0]\n",
    "explicacion = model.explain(userid = user, user_items = matrix_user_item * alpha, itemid = top_recomendado, N=10)"
   ]
  },
  {
   "cell_type": "code",
   "execution_count": 151,
   "metadata": {},
   "outputs": [],
   "source": [
    "score_top = explicacion[0]\n",
    "\n",
    "games = []\n",
    "scores = []\n",
    "for i in range(0,len(explicacion[1])):\n",
    "    game = explicacion[1][i][0]\n",
    "    score = explicacion[1][i][1]\n",
    "    games.append(game)\n",
    "    scores.append(score)\n",
    "    \n",
    "explain = pd.Series(scores, index = games)\n",
    "explain.index = explain.index.map(dict(zip(data_games.game_id,data_games.app_name)))"
   ]
  },
  {
   "cell_type": "code",
   "execution_count": 152,
   "metadata": {},
   "outputs": [
    {
     "name": "stdout",
     "output_type": "stream",
     "text": [
      "Recomendación Top :  Prison Architect\n",
      "score :  1.0477951268966967\n"
     ]
    }
   ],
   "source": [
    "print('Recomendación Top : ', recom.index[idx_recom])\n",
    "print('score : ', score_top)"
   ]
  },
  {
   "cell_type": "code",
   "execution_count": 153,
   "metadata": {
    "scrolled": true
   },
   "outputs": [
    {
     "name": "stdout",
     "output_type": "stream",
     "text": [
      "Explicacion de la recomendación Top: \n",
      "\n",
      "Banished                                    0.407257\n",
      "Software Inc.                               0.264176\n",
      "Turmoil                                     0.170682\n",
      "Basement                                    0.166192\n",
      "Automation - The Car Company Tycoon Game    0.066076\n",
      "BeamNG.drive                                0.048843\n",
      "Zombie Shooter                              0.000986\n",
      "FlatOut                                     0.000220\n",
      "FlatOut 2™                                 -0.076636\n",
      "dtype: float64\n"
     ]
    }
   ],
   "source": [
    "print('Explicacion de la recomendación Top: \\n')\n",
    "print(explain)"
   ]
  },
  {
   "cell_type": "markdown",
   "metadata": {},
   "source": [
    "Busqueda de los juegos mas similares al principal juego recomendado"
   ]
  },
  {
   "cell_type": "code",
   "execution_count": 154,
   "metadata": {},
   "outputs": [],
   "source": [
    "item_similar = model.similar_items(itemid = top_recomendado, N=10)\n",
    "games = []\n",
    "scores = []\n",
    "for i in range(0,len(item_similar)):\n",
    "    game = item_similar[i][0]\n",
    "    score = item_similar[i][1]\n",
    "    games.append(game)\n",
    "    scores.append(score)\n",
    "    \n",
    "item_similars = pd.Series(scores, index = games)\n",
    "item_similars.index = item_similars.index.map(dict(zip(data_games.game_id,data_games.app_name)))\n",
    "item_nombre = data_games.app_name[data_games.game_id == top_recomendado].values[0]"
   ]
  },
  {
   "cell_type": "code",
   "execution_count": 155,
   "metadata": {},
   "outputs": [
    {
     "name": "stdout",
     "output_type": "stream",
     "text": [
      "Item elegido :  Prison Architect\n"
     ]
    }
   ],
   "source": [
    "print('Item elegido : ',item_nombre)"
   ]
  },
  {
   "cell_type": "code",
   "execution_count": 156,
   "metadata": {
    "scrolled": true
   },
   "outputs": [
    {
     "name": "stdout",
     "output_type": "stream",
     "text": [
      "Items mas similares : \n",
      "\n",
      "Prison Architect           1.000000\n",
      "Achievement Clicker        0.732611\n",
      "Real Pool 3D - Poolians    0.653788\n",
      "Banished                   0.610128\n",
      "Sim Junta                  0.588913\n",
      "Ben 10                     0.571371\n",
      "Basement                   0.556556\n",
      "Software Inc.              0.553779\n",
      "Democracy 3 Africa         0.537700\n",
      "Jane's Realty              0.536908\n",
      "dtype: float64\n"
     ]
    }
   ],
   "source": [
    "print('Items mas similares : \\n')\n",
    "print(item_similars)"
   ]
  },
  {
   "cell_type": "markdown",
   "metadata": {},
   "source": [
    "Busqueda de los usuarios mas similares al elegido"
   ]
  },
  {
   "cell_type": "code",
   "execution_count": 157,
   "metadata": {},
   "outputs": [],
   "source": [
    "user_similar = model.similar_users(userid = user, N=10)\n",
    "userss = []\n",
    "scores = []\n",
    "for i in range(0,len(user_similar)):\n",
    "    user = user_similar[i][0]\n",
    "    score = user_similar[i][1]\n",
    "    userss.append(user)\n",
    "    scores.append(score)\n",
    "    \n",
    "user_similars = pd.Series(scores, index = userss)\n",
    "user_similars.index = user_similars.index.map(dict(zip(data_reviews.user_id,data_reviews.username)))"
   ]
  },
  {
   "cell_type": "code",
   "execution_count": 158,
   "metadata": {},
   "outputs": [
    {
     "name": "stdout",
     "output_type": "stream",
     "text": [
      "Usuario elegido :  CptCobbler\n"
     ]
    }
   ],
   "source": [
    "print('Usuario elegido : ',usuario)"
   ]
  },
  {
   "cell_type": "code",
   "execution_count": 159,
   "metadata": {},
   "outputs": [
    {
     "name": "stdout",
     "output_type": "stream",
     "text": [
      "Usuarios mas similares : \n",
      "\n",
      "CptCobbler                1.000000\n",
      "Agent Jody Highroller     0.782777\n",
      "dizzejamie                0.781275\n",
      "sevotastic                0.776107\n",
      "The_Pedro123              0.761041\n",
      "ggmannubb csgolive.com    0.755246\n",
      "Space Pirate Ninja        0.754676\n",
      "onwee                     0.754325\n",
      "maroha3814                0.753406\n",
      "JoeyE3™                   0.751397\n",
      "dtype: float64\n"
     ]
    }
   ],
   "source": [
    "print('Usuarios mas similares : \\n')\n",
    "print(user_similars)"
   ]
  },
  {
   "cell_type": "markdown",
   "metadata": {},
   "source": [
    "# Posibles mejoras a futuro"
   ]
  },
  {
   "cell_type": "markdown",
   "metadata": {},
   "source": [
    "> 1. **Análisis de sentimientos**\n",
    "\n",
    ">> En el siguiente [artículo](https://www.researchgate.net/publication/333072035_Recommender_Systems_for_Online_Video_Game_Platforms_the_Case_of_STEAM) se menciona una análisis de sentimiento sobre la columna del texto en las reviews. Este análisis de sentimientos reforzaría a los juegos que también *NO* le gustaron y retroalimentaría nuestro sistema de recomendación aumento el nivel de confianza.\n",
    "\n",
    ">> Para desarrollar esta mejora primero usaríamos el algoritmo de código abierto `Tweetment`. Este algoritmo existe como una biblioteca de Python y es capaz de realizar una clasificación binaria de sentimiento a etiquetas de manera positiva o negativa, representadas por valores 1 o 0, respectivamente. Este algoritmo se entrena sobre una base de datos de tweets, logrando un puntaje F1 de 69.02% en clasificación binaria y para nuestro data set podría estar implementada en la columna de `text`. Otro algoritmo consultado fue SentiWordNet, desarrollado como una aplicación de minería de opiniones capaz de clasificar texto en un rango continuo `[-1, 1]`, indicativo de cuán positiva o negativa es la idea expresada. Este algoritmo funciona mediante un diccionario pre-entrenado que sintetiza relaciones n-gramas, puntuando su positividad, negatividad y objetividad, sin ser excluyente. Aunque, es importante descatar que este sería un reto muy grande ya que el texto descrito en la `reviews` contiene demasiada jerga gamer y a veces los comentarios contiene solo emoticones. Pero valdría la pena el intento y evaluar los resultado que podríamos obtener al aplicar este análisis de sentimientos. \n",
    "\n",
    "> 2. **Introducción de la métrica  $\\overline{rank_{u}}$**\n",
    "\n",
    ">> Evaluamos un escenario donde generamos para cada usuario una lista ordenada de los juegos, ordenados desde el que se predice que será el más preferido hasta el menos preferido. Luego, presentamos un prefijo de la lista al usuario como muestra la recomendación. Es importante darse cuenta de que no tenemos una **retroalimentación** confiable con respecto a los juegos que **no les gustaron**, ya que no jugar un juego puede deberse a múltiples razones diferentes. Puede ser que el juego está muy caro, o la persona juega eventualmente y no tiene muchos juegos en su catalógo. Además, actualmente no podemos rastrear las reacciones de los usuarios a nuestras recomendaciones, porque estamos haciendo las predicciones de acuerdo al comportamiento del usuario y no sabemos sí el jugador podría comprarlo y empezar a jugarlo de inmediato. Por lo tanto, las métricas basadas en precisión no son muy apropiadas, ya que requieren saber qué **juegos** no son deseados por un usuario. Sin embargo, jugar un juego por un determinado tiempo es una indicación de que le gusta, lo que hace que las medidas orientadas al recuerdo sean aplicables.\n",
    "\n",
    ">> Para cada usuario $u$ generamos una lista de los juegos ordenada por preferencia $\\overline{rank_{u}}$ a partir de los resultados del modelo de recomendación. Con esta lista definiremos el ranking percentil $\\overline{rank_{ui}}$ como el ranking del juego $i$ en la lista correspondiente al usuario $u$, este ranking percentil tendrá un sentido inverso, es decir que $\\overline{rank_{ui}} = 0\\%$ indicará que el juego $i$ es predecido por el modelo como el mas deseable para el usuario $u$ y similarmente $\\overline{rank_{ui}} = 100\\%$ indicará que el juego $i$ es predecido como el menos deseable para el usuario $u$.\n",
    "\n",
    "> 3. El Benchmark\n",
    "\n",
    ">> Hemos desarrollado un Benchmark con poca complejidad, teniendo en cuenta solo el ranking de populadiradad en los juegos.\n",
    "\n",
    ">> Se tiene como alternativa a futuro que este Benchmark pueda ser mejorado teniendo en cuenta los géneros, etiquetas, precios y otros detalles de los juegos en preferencia.\n",
    "\n",
    "\n",
    "> Hemos trabajado en la retroalimentación implícita para conocer las preferencias del usuario, específicamente, usando el tiempo de juego  (horas) como nuestra medida. Después de un análisis preliminar propusimos un límite de 5 horas como suficiente para diferenciar entre preferencia o no. De hecho, esta es una suposición fuerte, ya que **lo ideal sería conocer el tiempo de juego habitual de cada juego como una medida más precisa**. Pero en aras de la simplicidad, dejamos esta idea para trabajos futuros."
   ]
  },
  {
   "cell_type": "code",
   "execution_count": null,
   "metadata": {},
   "outputs": [],
   "source": []
  }
 ],
 "metadata": {
  "colab": {
   "collapsed_sections": [],
   "name": "DS_Proyecto_03_SR.ipynb",
   "provenance": [
    {
     "file_id": "1byeX_htRp3NqV08X3eLlWIp02cnPb_WP",
     "timestamp": 1606701008246
    }
   ]
  },
  "kernelspec": {
   "display_name": "Python 3",
   "language": "python",
   "name": "python3"
  },
  "language_info": {
   "codemirror_mode": {
    "name": "ipython",
    "version": 3
   },
   "file_extension": ".py",
   "mimetype": "text/x-python",
   "name": "python",
   "nbconvert_exporter": "python",
   "pygments_lexer": "ipython3",
   "version": "3.8.5"
  }
 },
 "nbformat": 4,
 "nbformat_minor": 4
}
